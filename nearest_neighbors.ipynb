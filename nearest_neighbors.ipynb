{
 "cells": [
  {
   "cell_type": "code",
   "execution_count": 130,
   "metadata": {},
   "outputs": [
    {
     "name": "stdout",
     "output_type": "stream",
     "text": [
      "Before-After\n",
      "Dimension:  (58077, 6)\n",
      "\n",
      "Variable:  6\n",
      "\n",
      "Missing value: \n",
      "year     0\n",
      "age      0\n",
      "sex      0\n",
      "meth     0\n",
      "tv       0\n",
      "state    0\n",
      "dtype: int64\n",
      "\n",
      "Variable code: \n",
      "year      int64\n",
      "age       int64\n",
      "sex      object\n",
      "meth      int64\n",
      "tv        int64\n",
      "state    object\n",
      "dtype: object\n",
      "\n",
      "       year  age sex  meth  tv state  campaign\n",
      "0      2003   13   M     0   1    XX         0\n",
      "1      2003   13   M     1   1    XX         0\n",
      "2      2003   13   M     1   1    XX         0\n",
      "3      2003   13   M     0   1    XX         0\n",
      "4      2003   13   M     0   0    XX         0\n",
      "5      2003   13   M     0   1    XX         0\n",
      "6      2003   13   M     0   0    XX         0\n",
      "7      2003   14   M     0   1    XX         0\n",
      "8      2003   14   M     0   1    XX         0\n",
      "9      2003   14   M     0   1    XX         0\n",
      "10     2003   14   M     0   1    XX         0\n",
      "11     2003   14   M     0   1    XX         0\n",
      "12     2003   14   M     0   1    XX         0\n",
      "13     2003   14   M     0   1    XX         0\n",
      "14     2003   14   M     0   1    XX         0\n",
      "15     2003   14   M     0   1    XX         0\n",
      "16     2003   14   M     0   0    XX         0\n",
      "17     2003   14   M     0   0    XX         0\n",
      "18     2003   14   M     0   1    XX         0\n",
      "19     2003   14   M     0   1    XX         0\n",
      "20     2003   14   M     0   0    XX         0\n",
      "21     2003   14   M     0   1    XX         0\n",
      "22     2003   14   M     0   1    XX         0\n",
      "23     2003   14   M     0   1    XX         0\n",
      "24     2003   14   M     0   1    XX         0\n",
      "25     2003   14   M     0   1    XX         0\n",
      "26     2003   14   M     1   1    XX         0\n",
      "27     2003   14   M     0   1    XX         0\n",
      "28     2003   14   M     0   1    XX         0\n",
      "29     2003   14   M     0   1    XX         0\n",
      "...     ...  ...  ..   ...  ..   ...       ...\n",
      "58047  2009   17   F     0   0    MT         1\n",
      "58048  2009   17   F     0   0    MT         1\n",
      "58049  2009   17   F     0   0    MT         1\n",
      "58050  2009   17   F     0   0    MT         1\n",
      "58051  2009   17   F     0   0    MT         1\n",
      "58052  2009   17   F     0   0    MT         1\n",
      "58053  2009   17   F     0   0    MT         1\n",
      "58054  2009   17   F     0   0    MT         1\n",
      "58055  2009   17   F     0   1    MT         1\n",
      "58056  2009   17   F     0   1    MT         1\n",
      "58057  2009   17   F     0   0    MT         1\n",
      "58058  2009   17   F     0   0    MT         1\n",
      "58059  2009   17   F     0   0    MT         1\n",
      "58060  2009   17   F     0   0    MT         1\n",
      "58061  2009   17   F     0   0    MT         1\n",
      "58062  2009   17   F     0   0    MT         1\n",
      "58063  2009   17   F     1   1    MT         1\n",
      "58064  2009   17   F     0   0    MT         1\n",
      "58065  2009   17   F     0   0    MT         1\n",
      "58066  2009   17   F     0   0    MT         1\n",
      "58067  2009   17   F     0   1    MT         1\n",
      "58068  2009   17   F     0   1    MT         1\n",
      "58069  2009   17   F     0   1    MT         1\n",
      "58070  2009   17   F     0   1    MT         1\n",
      "58071  2009   17   F     0   0    MT         1\n",
      "58072  2009   17   F     0   0    MT         1\n",
      "58073  2009   17   F     0   0    MT         1\n",
      "58074  2009   17   F     0   0    MT         1\n",
      "58075  2009   17   F     0   0    MT         1\n",
      "58076  2009   17   F     0   0    MT         1\n",
      "\n",
      "[58077 rows x 7 columns]\n"
     ]
    }
   ],
   "source": [
    "import pandas as pd\n",
    "import numpy as np\n",
    "\n",
    "# Before-After\n",
    "print(\"Before-After\")\n",
    "data = pd.read_table('yrbs.tsv', sep = \"\\t\")\n",
    "print(\"Dimension: \", data.shape)\n",
    "print()\n",
    "print(\"Variable: \", data.shape[1])\n",
    "print()\n",
    "print(\"Missing value: \")\n",
    "print(data.isnull().sum())\n",
    "print()\n",
    "print(\"Variable code: \")\n",
    "print(data.dtypes)\n",
    "print()\n",
    "data['campaign'] = np.where(data['year'] <= 2005, 0, 1)\n",
    "print(data)"
   ]
  },
  {
   "cell_type": "code",
   "execution_count": 131,
   "metadata": {},
   "outputs": [
    {
     "name": "stdout",
     "output_type": "stream",
     "text": [
      "Graphical Exploration\n"
     ]
    },
    {
     "data": {
      "image/png": "[encoded data removed]",
      "text/plain": [
       "<matplotlib.figure.Figure at 0x1a226ef048>"
      ]
     },
     "metadata": {},
     "output_type": "display_data"
    },
    {
     "data": {
      "image/png": "[encoded data removed]",
      "text/plain": [
       "<matplotlib.figure.Figure at 0x1a227060f0>"
      ]
     },
     "metadata": {},
     "output_type": "display_data"
    },
    {
     "name": "stdout",
     "output_type": "stream",
     "text": [
      "year\n",
      "2003    0.063931\n",
      "2005    0.056422\n",
      "2007    0.039130\n",
      "2009    0.040600\n",
      "Name: meth, dtype: float64\n",
      "Meth use was higher in Montana than in other states.\n",
      "After campaign, the meth use decreased in Montana and other states.\n",
      "There was slight increase in Meth in other states in 2009, but it is still less than the meth use before the campaign.\n"
     ]
    }
   ],
   "source": [
    "import matplotlib.pyplot as plt# Graphical Exploration\n",
    "print(\"Graphical Exploration\")\n",
    "axis = data[data['state'] == 'MT'].groupby(['year'])['meth'].mean().T\n",
    "fig, ax = plt.subplots(figsize = (10, 10))\n",
    "axis.plot(kind=\"bar\", ax=ax)\n",
    "plt.show()\n",
    "\n",
    "axis2 = data[data['state'] != 'MT'].groupby(['year'])['meth'].mean().T\n",
    "fig2, ax2 = plt.subplots(figsize = (10, 10))\n",
    "axis2.plot(kind=\"bar\", ax=ax2)\n",
    "plt.show()\n",
    "print(year)\n",
    "\n",
    "print(\"Meth use was higher in Montana than in other states.\")\n",
    "print(\"After campaign, the meth use decreased in Montana and other states.\")\n",
    "print(\"There was slight increase in Meth in other states in 2009, but it is still less than the meth use before the campaign.\")"
   ]
  },
  {
   "cell_type": "code",
   "execution_count": 132,
   "metadata": {},
   "outputs": [
    {
     "name": "stdout",
     "output_type": "stream",
     "text": [
      "Before-After Estimator\n",
      "                            OLS Regression Results                            \n",
      "==============================================================================\n",
      "Dep. Variable:                   meth   R-squared:                       0.007\n",
      "Model:                            OLS   Adj. R-squared:                  0.007\n",
      "Method:                 Least Squares   F-statistic:                     67.66\n",
      "Date:                Wed, 07 Feb 2018   Prob (F-statistic):           2.19e-16\n",
      "Time:                        22:17:24   Log-Likelihood:                 417.76\n",
      "No. Observations:                9754   AIC:                            -831.5\n",
      "Df Residuals:                    9752   BIC:                            -817.1\n",
      "Df Model:                           1                                         \n",
      "Covariance Type:            nonrobust                                         \n",
      "==============================================================================\n",
      "                 coef    std err          t      P>|t|      [0.025      0.975]\n",
      "------------------------------------------------------------------------------\n",
      "Intercept      0.0767      0.003     23.106      0.000       0.070       0.083\n",
      "campaign      -0.0386      0.005     -8.225      0.000      -0.048      -0.029\n",
      "==============================================================================\n",
      "Omnibus:                     7326.455   Durbin-Watson:                   1.957\n",
      "Prob(Omnibus):                  0.000   Jarque-Bera (JB):            84570.020\n",
      "Skew:                           3.765   Prob(JB):                         0.00\n",
      "Kurtosis:                      15.304   Cond. No.                         2.62\n",
      "==============================================================================\n",
      "\n",
      "Warnings:\n",
      "[1] Standard Errors assume that the covariance matrix of the errors is correctly specified.\n",
      "We accept null hypothesis that there is strong correlation between meth use and campaign in Montana.\n"
     ]
    }
   ],
   "source": [
    "print(\"Before-After Estimator\")\n",
    "import statsmodels.formula.api as smf\n",
    "\n",
    "ols_regression = smf.ols(formula = 'meth ~ campaign', data = data[data['state'] == 'MT']).fit()\n",
    "print(ols_regression.summary())\n",
    "print(\"We reject null hypothesis that there is no strong correlation between meth use and campaign in Montana.\");"
   ]
  },
  {
   "cell_type": "code",
   "execution_count": 133,
   "metadata": {},
   "outputs": [
    {
     "name": "stdout",
     "output_type": "stream",
     "text": [
      "Cross-Sectional Estimator\n",
      "                            OLS Regression Results                            \n",
      "==============================================================================\n",
      "Dep. Variable:                   meth   R-squared:                       0.000\n",
      "Model:                            OLS   Adj. R-squared:                 -0.000\n",
      "Method:                 Least Squares   F-statistic:                    0.3503\n",
      "Date:                Wed, 07 Feb 2018   Prob (F-statistic):              0.554\n",
      "Time:                        22:17:25   Log-Likelihood:                 6404.0\n",
      "No. Observations:               29728   AIC:                        -1.280e+04\n",
      "Df Residuals:                   29726   BIC:                        -1.279e+04\n",
      "Df Model:                           1                                         \n",
      "Covariance Type:            nonrobust                                         \n",
      "===============================================================================\n",
      "                  coef    std err          t      P>|t|      [0.025      0.975]\n",
      "-------------------------------------------------------------------------------\n",
      "Intercept       0.0381      0.003     13.648      0.000       0.033       0.044\n",
      "state[T.XX]     0.0018      0.003      0.592      0.554      -0.004       0.008\n",
      "==============================================================================\n",
      "Omnibus:                    27196.729   Durbin-Watson:                   1.976\n",
      "Prob(Omnibus):                  0.000   Jarque-Bera (JB):           619647.247\n",
      "Skew:                           4.720   Prob(JB):                         0.00\n",
      "Kurtosis:                      23.277   Cond. No.                         4.75\n",
      "==============================================================================\n",
      "\n",
      "Warnings:\n",
      "[1] Standard Errors assume that the covariance matrix of the errors is correctly specified.\n",
      "We accept null hypothesis that there is correlation between meth use and different state after the campaign.\n"
     ]
    }
   ],
   "source": [
    "print(\"Cross-Sectional Estimator\")\n",
    "ols_regression = smf.ols(formula = 'meth ~ state', data = data[data['campaign'] == 1]).fit()\n",
    "print(ols_regression.summary())\n",
    "print(\"We accept null hypothesis that there is correlation between meth use and different state after the campaign.\")"
   ]
  },
  {
   "cell_type": "code",
   "execution_count": 135,
   "metadata": {},
   "outputs": [
    {
     "name": "stdout",
     "output_type": "stream",
     "text": [
      "Differences-in-Differences Estimator\n",
      "                            OLS Regression Results                            \n",
      "==============================================================================\n",
      "Dep. Variable:                   meth   R-squared:                       0.004\n",
      "Model:                            OLS   Adj. R-squared:                  0.004\n",
      "Method:                 Least Squares   F-statistic:                     48.39\n",
      "Date:                Wed, 07 Feb 2018   Prob (F-statistic):           3.77e-50\n",
      "Time:                        22:19:16   Log-Likelihood:                 5593.4\n",
      "No. Observations:               58077   AIC:                        -1.117e+04\n",
      "Df Residuals:                   58071   BIC:                        -1.112e+04\n",
      "Df Model:                           5                                         \n",
      "Covariance Type:            nonrobust                                         \n",
      "===============================================================================\n",
      "                  coef    std err          t      P>|t|      [0.025      0.975]\n",
      "-------------------------------------------------------------------------------\n",
      "Intercept      10.1372      0.816     12.420      0.000       8.537      11.737\n",
      "state[T.XX]    -0.0065      0.002     -2.626      0.009      -0.011      -0.002\n",
      "sex[T.M]        0.0062      0.002      3.410      0.001       0.003       0.010\n",
      "year           -0.0051      0.000    -12.490      0.000      -0.006      -0.004\n",
      "age             0.0070      0.001      7.620      0.000       0.005       0.009\n",
      "tv             -0.0041      0.002     -2.178      0.029      -0.008      -0.000\n",
      "==============================================================================\n",
      "Omnibus:                    46531.872   Durbin-Watson:                   1.972\n",
      "Prob(Omnibus):                  0.000   Jarque-Bera (JB):           667676.245\n",
      "Skew:                           4.052   Prob(JB):                         0.00\n",
      "Kurtosis:                      17.500   Cond. No.                     1.80e+06\n",
      "==============================================================================\n",
      "\n",
      "Warnings:\n",
      "[1] Standard Errors assume that the covariance matrix of the errors is correctly specified.\n",
      "[2] The condition number is large, 1.8e+06. This might indicate that there are\n",
      "strong multicollinearity or other numerical problems.\n",
      "We accept one null hypothesis that there is correlation between meth use and campaign. However, we reject the null hypothesis that there is correlation between meth use and states.\n"
     ]
    }
   ],
   "source": [
    "print(\"Differences-in-Differences Estimator\")\n",
    "ols_regression = smf.ols(formula = 'meth ~ state + year + age + sex + tv', data = data).fit()\n",
    "print(ols_regression.summary())\n",
    "print(\"We reject the null hypothesis for all variables.\")"
   ]
  },
  {
   "cell_type": "code",
   "execution_count": null,
   "metadata": {
    "collapsed": true
   },
   "outputs": [],
   "source": []
  }
 ],
 "metadata": {
  "kernelspec": {
   "display_name": "Python 3",
   "language": "python",
   "name": "python3"
  },
  "language_info": {
   "codemirror_mode": {
    "name": "ipython",
    "version": 3
   },
   "file_extension": ".py",
   "mimetype": "text/x-python",
   "name": "python",
   "nbconvert_exporter": "python",
   "pygments_lexer": "ipython3",
   "version": "3.6.3"
  }
 },
 "nbformat": 4,
 "nbformat_minor": 2
}
