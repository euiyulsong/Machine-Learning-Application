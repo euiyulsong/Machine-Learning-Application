{
 "cells": [
  {
   "cell_type": "code",
   "execution_count": 1,
   "metadata": {
    "collapsed": true
   },
   "outputs": [],
   "source": [
    "import pandas as pd\n",
    "import numpy as np"
   ]
  },
  {
   "cell_type": "markdown",
   "metadata": {},
   "source": [
    "## 1. 1. Load data. Note: the le does not contain header line."
   ]
  },
  {
   "cell_type": "code",
   "execution_count": 2,
   "metadata": {
    "collapsed": true
   },
   "outputs": [],
   "source": [
    "data = pd.read_table('house-votes-84.csv.bz2', compression = \"bz2\", sep=\",\", header=None)"
   ]
  },
  {
   "cell_type": "markdown",
   "metadata": {},
   "source": [
    "## 1. 2. Explore the data: What is the number of yeas, nays and others by the column."
   ]
  },
  {
   "cell_type": "code",
   "execution_count": 3,
   "metadata": {},
   "outputs": [
    {
     "data": {
      "text/html": [
       "<div>\n",
       "<style>\n",
       "    .dataframe thead tr:only-child th {\n",
       "        text-align: right;\n",
       "    }\n",
       "\n",
       "    .dataframe thead th {\n",
       "        text-align: left;\n",
       "    }\n",
       "\n",
       "    .dataframe tbody tr th {\n",
       "        vertical-align: top;\n",
       "    }\n",
       "</style>\n",
       "<table border=\"1\" class=\"dataframe\">\n",
       "  <thead>\n",
       "    <tr style=\"text-align: right;\">\n",
       "      <th></th>\n",
       "      <th>1</th>\n",
       "      <th>2</th>\n",
       "      <th>3</th>\n",
       "      <th>4</th>\n",
       "      <th>5</th>\n",
       "      <th>6</th>\n",
       "      <th>7</th>\n",
       "      <th>8</th>\n",
       "      <th>9</th>\n",
       "      <th>10</th>\n",
       "      <th>11</th>\n",
       "      <th>12</th>\n",
       "      <th>13</th>\n",
       "      <th>14</th>\n",
       "      <th>15</th>\n",
       "      <th>16</th>\n",
       "    </tr>\n",
       "  </thead>\n",
       "  <tbody>\n",
       "    <tr>\n",
       "      <th>?</th>\n",
       "      <td>12</td>\n",
       "      <td>48</td>\n",
       "      <td>11</td>\n",
       "      <td>11</td>\n",
       "      <td>15</td>\n",
       "      <td>11</td>\n",
       "      <td>14</td>\n",
       "      <td>15</td>\n",
       "      <td>22</td>\n",
       "      <td>7</td>\n",
       "      <td>21</td>\n",
       "      <td>31</td>\n",
       "      <td>25</td>\n",
       "      <td>17</td>\n",
       "      <td>28</td>\n",
       "      <td>104</td>\n",
       "    </tr>\n",
       "    <tr>\n",
       "      <th>n</th>\n",
       "      <td>236</td>\n",
       "      <td>192</td>\n",
       "      <td>171</td>\n",
       "      <td>247</td>\n",
       "      <td>208</td>\n",
       "      <td>152</td>\n",
       "      <td>182</td>\n",
       "      <td>178</td>\n",
       "      <td>206</td>\n",
       "      <td>212</td>\n",
       "      <td>264</td>\n",
       "      <td>233</td>\n",
       "      <td>201</td>\n",
       "      <td>170</td>\n",
       "      <td>233</td>\n",
       "      <td>62</td>\n",
       "    </tr>\n",
       "    <tr>\n",
       "      <th>y</th>\n",
       "      <td>187</td>\n",
       "      <td>195</td>\n",
       "      <td>253</td>\n",
       "      <td>177</td>\n",
       "      <td>212</td>\n",
       "      <td>272</td>\n",
       "      <td>239</td>\n",
       "      <td>242</td>\n",
       "      <td>207</td>\n",
       "      <td>216</td>\n",
       "      <td>150</td>\n",
       "      <td>171</td>\n",
       "      <td>209</td>\n",
       "      <td>248</td>\n",
       "      <td>174</td>\n",
       "      <td>269</td>\n",
       "    </tr>\n",
       "  </tbody>\n",
       "</table>\n",
       "</div>"
      ],
      "text/plain": [
       "    1    2    3    4    5    6    7    8    9    10   11   12   13   14   15  \\\n",
       "?   12   48   11   11   15   11   14   15   22    7   21   31   25   17   28   \n",
       "n  236  192  171  247  208  152  182  178  206  212  264  233  201  170  233   \n",
       "y  187  195  253  177  212  272  239  242  207  216  150  171  209  248  174   \n",
       "\n",
       "    16  \n",
       "?  104  \n",
       "n   62  \n",
       "y  269  "
      ]
     },
     "execution_count": 3,
     "metadata": {},
     "output_type": "execute_result"
    }
   ],
   "source": [
    "temp = data.drop([0], axis=1)\n",
    "temp.apply(pd.value_counts)"
   ]
  },
  {
   "cell_type": "code",
   "execution_count": 4,
   "metadata": {},
   "outputs": [
    {
     "data": {
      "text/html": [
       "<div>\n",
       "<style>\n",
       "    .dataframe thead tr:only-child th {\n",
       "        text-align: right;\n",
       "    }\n",
       "\n",
       "    .dataframe thead th {\n",
       "        text-align: left;\n",
       "    }\n",
       "\n",
       "    .dataframe tbody tr th {\n",
       "        vertical-align: top;\n",
       "    }\n",
       "</style>\n",
       "<table border=\"1\" class=\"dataframe\">\n",
       "  <thead>\n",
       "    <tr style=\"text-align: right;\">\n",
       "      <th></th>\n",
       "      <th>?</th>\n",
       "      <th>democrat</th>\n",
       "      <th>n</th>\n",
       "      <th>republican</th>\n",
       "      <th>y</th>\n",
       "    </tr>\n",
       "  </thead>\n",
       "  <tbody>\n",
       "    <tr>\n",
       "      <th>0</th>\n",
       "      <td>NaN</td>\n",
       "      <td>267.0</td>\n",
       "      <td>NaN</td>\n",
       "      <td>168.0</td>\n",
       "      <td>NaN</td>\n",
       "    </tr>\n",
       "    <tr>\n",
       "      <th>1</th>\n",
       "      <td>12.0</td>\n",
       "      <td>NaN</td>\n",
       "      <td>236.0</td>\n",
       "      <td>NaN</td>\n",
       "      <td>187.0</td>\n",
       "    </tr>\n",
       "    <tr>\n",
       "      <th>2</th>\n",
       "      <td>48.0</td>\n",
       "      <td>NaN</td>\n",
       "      <td>192.0</td>\n",
       "      <td>NaN</td>\n",
       "      <td>195.0</td>\n",
       "    </tr>\n",
       "    <tr>\n",
       "      <th>3</th>\n",
       "      <td>11.0</td>\n",
       "      <td>NaN</td>\n",
       "      <td>171.0</td>\n",
       "      <td>NaN</td>\n",
       "      <td>253.0</td>\n",
       "    </tr>\n",
       "    <tr>\n",
       "      <th>4</th>\n",
       "      <td>11.0</td>\n",
       "      <td>NaN</td>\n",
       "      <td>247.0</td>\n",
       "      <td>NaN</td>\n",
       "      <td>177.0</td>\n",
       "    </tr>\n",
       "    <tr>\n",
       "      <th>5</th>\n",
       "      <td>15.0</td>\n",
       "      <td>NaN</td>\n",
       "      <td>208.0</td>\n",
       "      <td>NaN</td>\n",
       "      <td>212.0</td>\n",
       "    </tr>\n",
       "    <tr>\n",
       "      <th>6</th>\n",
       "      <td>11.0</td>\n",
       "      <td>NaN</td>\n",
       "      <td>152.0</td>\n",
       "      <td>NaN</td>\n",
       "      <td>272.0</td>\n",
       "    </tr>\n",
       "    <tr>\n",
       "      <th>7</th>\n",
       "      <td>14.0</td>\n",
       "      <td>NaN</td>\n",
       "      <td>182.0</td>\n",
       "      <td>NaN</td>\n",
       "      <td>239.0</td>\n",
       "    </tr>\n",
       "    <tr>\n",
       "      <th>8</th>\n",
       "      <td>15.0</td>\n",
       "      <td>NaN</td>\n",
       "      <td>178.0</td>\n",
       "      <td>NaN</td>\n",
       "      <td>242.0</td>\n",
       "    </tr>\n",
       "    <tr>\n",
       "      <th>9</th>\n",
       "      <td>22.0</td>\n",
       "      <td>NaN</td>\n",
       "      <td>206.0</td>\n",
       "      <td>NaN</td>\n",
       "      <td>207.0</td>\n",
       "    </tr>\n",
       "    <tr>\n",
       "      <th>10</th>\n",
       "      <td>7.0</td>\n",
       "      <td>NaN</td>\n",
       "      <td>212.0</td>\n",
       "      <td>NaN</td>\n",
       "      <td>216.0</td>\n",
       "    </tr>\n",
       "    <tr>\n",
       "      <th>11</th>\n",
       "      <td>21.0</td>\n",
       "      <td>NaN</td>\n",
       "      <td>264.0</td>\n",
       "      <td>NaN</td>\n",
       "      <td>150.0</td>\n",
       "    </tr>\n",
       "    <tr>\n",
       "      <th>12</th>\n",
       "      <td>31.0</td>\n",
       "      <td>NaN</td>\n",
       "      <td>233.0</td>\n",
       "      <td>NaN</td>\n",
       "      <td>171.0</td>\n",
       "    </tr>\n",
       "    <tr>\n",
       "      <th>13</th>\n",
       "      <td>25.0</td>\n",
       "      <td>NaN</td>\n",
       "      <td>201.0</td>\n",
       "      <td>NaN</td>\n",
       "      <td>209.0</td>\n",
       "    </tr>\n",
       "    <tr>\n",
       "      <th>14</th>\n",
       "      <td>17.0</td>\n",
       "      <td>NaN</td>\n",
       "      <td>170.0</td>\n",
       "      <td>NaN</td>\n",
       "      <td>248.0</td>\n",
       "    </tr>\n",
       "    <tr>\n",
       "      <th>15</th>\n",
       "      <td>28.0</td>\n",
       "      <td>NaN</td>\n",
       "      <td>233.0</td>\n",
       "      <td>NaN</td>\n",
       "      <td>174.0</td>\n",
       "    </tr>\n",
       "    <tr>\n",
       "      <th>16</th>\n",
       "      <td>104.0</td>\n",
       "      <td>NaN</td>\n",
       "      <td>62.0</td>\n",
       "      <td>NaN</td>\n",
       "      <td>269.0</td>\n",
       "    </tr>\n",
       "  </tbody>\n",
       "</table>\n",
       "</div>"
      ],
      "text/plain": [
       "        ?  democrat      n  republican      y\n",
       "0     NaN     267.0    NaN       168.0    NaN\n",
       "1    12.0       NaN  236.0         NaN  187.0\n",
       "2    48.0       NaN  192.0         NaN  195.0\n",
       "3    11.0       NaN  171.0         NaN  253.0\n",
       "4    11.0       NaN  247.0         NaN  177.0\n",
       "5    15.0       NaN  208.0         NaN  212.0\n",
       "6    11.0       NaN  152.0         NaN  272.0\n",
       "7    14.0       NaN  182.0         NaN  239.0\n",
       "8    15.0       NaN  178.0         NaN  242.0\n",
       "9    22.0       NaN  206.0         NaN  207.0\n",
       "10    7.0       NaN  212.0         NaN  216.0\n",
       "11   21.0       NaN  264.0         NaN  150.0\n",
       "12   31.0       NaN  233.0         NaN  171.0\n",
       "13   25.0       NaN  201.0         NaN  209.0\n",
       "14   17.0       NaN  170.0         NaN  248.0\n",
       "15   28.0       NaN  233.0         NaN  174.0\n",
       "16  104.0       NaN   62.0         NaN  269.0"
      ]
     },
     "execution_count": 4,
     "metadata": {},
     "output_type": "execute_result"
    }
   ],
   "source": [
    "data.apply(pd.value_counts).T"
   ]
  },
  {
   "cell_type": "markdown",
   "metadata": {},
   "source": [
    "## 1. 3. Compute the percentage of democrats and republicans in your data."
   ]
  },
  {
   "cell_type": "code",
   "execution_count": 5,
   "metadata": {},
   "outputs": [
    {
     "name": "stdout",
     "output_type": "stream",
     "text": [
      "Democrats:  61.3793103448\n",
      "Republicans:  38.6206896552\n"
     ]
    }
   ],
   "source": [
    "democrats = data.apply(pd.value_counts).T['democrat'][0]\n",
    "republicans = data.apply(pd.value_counts).T['republican'][0]\n",
    "\n",
    "print('Democrats: ', democrats/ (democrats + republicans) * 100)\n",
    "print('Republicans: ', republicans/ (democrats + republicans) * 100)"
   ]
  },
  {
   "cell_type": "markdown",
   "metadata": {},
   "source": [
    "## 2. 1. Pick the first attribute (which happens to be voting for handicapped infants bill, see the readme file). Split your data according to yea or nay vote on that bill. You can just ignore the other here. You get two subsets of data: yea-sayers and nay-sayers."
   ]
  },
  {
   "cell_type": "code",
   "execution_count": 6,
   "metadata": {},
   "outputs": [
    {
     "name": "stdout",
     "output_type": "stream",
     "text": [
      "             0  1  2  3  4  5  6  7  8  9  10 11 12 13 14 15 16\n",
      "4      democrat  y  y  y  n  y  y  n  n  n  n  y  ?  y  y  y  y\n",
      "9      democrat  y  y  y  n  n  n  y  y  y  n  n  n  n  n  ?  ?\n",
      "13     democrat  y  y  y  n  n  y  y  y  ?  y  y  ?  n  n  y  ?\n",
      "16     democrat  y  n  y  n  n  y  n  y  ?  y  y  y  ?  n  n  y\n",
      "17     democrat  y  ?  y  n  n  n  y  y  y  n  n  n  y  n  y  y\n",
      "19     democrat  y  y  y  n  n  n  y  y  y  n  y  n  n  n  y  y\n",
      "20     democrat  y  y  y  n  n  ?  y  y  n  n  y  n  n  n  y  y\n",
      "21     democrat  y  y  y  n  n  n  y  y  y  n  n  n  ?  ?  y  y\n",
      "22     democrat  y  ?  y  n  n  n  y  y  y  n  n  ?  n  n  y  y\n",
      "23     democrat  y  y  y  n  n  n  y  y  y  n  n  n  n  n  y  y\n",
      "24     democrat  y  n  y  n  n  n  y  y  y  n  n  n  n  n  y  ?\n",
      "25     democrat  y  n  y  n  n  n  y  y  y  y  n  n  n  n  y  y\n",
      "26     democrat  y  n  y  n  n  n  y  y  y  n  y  n  n  n  y  y\n",
      "27     democrat  y  y  y  n  n  n  y  y  y  n  y  n  n  n  y  y\n",
      "28   republican  y  n  n  y  y  n  y  y  y  n  n  y  y  y  n  y\n",
      "29     democrat  y  y  y  n  n  n  y  y  y  n  y  n  n  n  y  y\n",
      "31     democrat  y  y  y  n  n  n  y  y  y  n  y  n  n  n  y  ?\n",
      "32     democrat  y  y  y  n  n  n  y  y  y  y  n  n  y  n  y  y\n",
      "34     democrat  y  y  y  n  n  n  y  y  y  n  n  n  n  n  y  y\n",
      "36   republican  y  ?  n  y  y  y  n  n  n  y  n  y  ?  y  n  y\n",
      "37   republican  y  y  n  y  y  y  n  n  n  n  n  n  y  y  n  y\n",
      "39     democrat  y  n  y  n  n  n  y  y  y  y  y  n  y  n  y  y\n",
      "40     democrat  y  y  y  n  n  n  y  y  y  n  ?  n  n  n  n  ?\n",
      "41     democrat  y  y  y  n  n  n  y  y  y  n  n  n  n  n  y  ?\n",
      "42     democrat  y  n  y  n  n  n  y  y  y  n  n  n  n  n  n  y\n",
      "43     democrat  y  n  y  n  n  n  y  y  y  n  n  n  n  n  y  y\n",
      "44     democrat  y  y  y  n  n  n  y  y  y  n  y  n  n  n  n  ?\n",
      "45     democrat  y  y  y  n  n  n  y  y  ?  n  y  n  n  n  y  ?\n",
      "46     democrat  y  y  y  n  n  n  y  y  y  n  n  n  n  n  n  y\n",
      "47     democrat  y  n  y  n  n  n  y  y  ?  n  n  n  n  n  n  ?\n",
      "..          ... .. .. .. .. .. .. .. .. .. .. .. .. .. .. .. ..\n",
      "370    democrat  y  y  y  n  ?  y  y  y  n  y  ?  ?  n  n  y  y\n",
      "371    democrat  y  y  y  n  ?  n  y  y  y  y  n  n  n  n  y  ?\n",
      "376    democrat  y  ?  y  n  n  n  y  y  y  n  y  n  n  n  y  y\n",
      "380    democrat  y  y  y  n  n  y  ?  y  y  n  y  n  y  n  y  y\n",
      "381    democrat  y  y  y  n  y  y  y  y  y  y  y  n  y  y  n  ?\n",
      "382    democrat  y  y  n  y  y  y  n  n  n  n  y  n  y  y  n  ?\n",
      "383    democrat  y  y  y  n  y  y  n  y  y  y  y  n  n  n  n  y\n",
      "384    democrat  y  y  y  y  y  y  n  n  n  n  y  y  y  y  n  y\n",
      "385    democrat  y  y  n  n  y  y  n  n  n  n  y  y  y  y  y  n\n",
      "387    democrat  y  y  y  n  y  y  n  y  y  n  y  n  n  y  n  ?\n",
      "389    democrat  y  n  y  n  n  n  y  y  y  ?  y  n  n  n  y  ?\n",
      "391    democrat  y  y  n  n  n  n  n  y  y  n  y  n  n  n  y  n\n",
      "392  republican  y  y  n  y  y  y  n  n  n  n  y  y  y  y  n  y\n",
      "394    democrat  y  y  ?  ?  ?  y  n  n  n  n  y  n  y  n  n  y\n",
      "395    democrat  y  y  y  ?  n  n  n  y  n  n  y  ?  n  n  y  y\n",
      "396    democrat  y  y  y  n  y  y  n  y  n  n  y  n  y  n  y  y\n",
      "397    democrat  y  y  n  n  y  ?  n  n  n  n  y  n  y  y  n  y\n",
      "404  republican  y  y  n  y  y  y  n  n  n  y  n  y  y  y  n  y\n",
      "406    democrat  y  n  y  n  y  y  n  n  y  y  n  n  y  y  n  y\n",
      "408    democrat  y  n  y  n  n  y  y  y  y  n  n  y  ?  y  y  y\n",
      "411    democrat  y  n  y  n  n  y  y  y  y  y  y  n  n  n  n  y\n",
      "413  republican  y  y  y  y  y  y  y  y  n  y  ?  ?  ?  y  n  y\n",
      "414    democrat  y  y  y  n  n  n  y  y  y  n  n  n  n  n  n  y\n",
      "416  republican  y  y  n  y  y  y  n  n  n  y  n  n  y  y  n  y\n",
      "417    democrat  y  y  y  n  n  n  y  y  y  y  y  n  y  n  n  y\n",
      "418    democrat  y  y  y  n  n  n  y  y  n  y  n  n  n  n  n  y\n",
      "419    democrat  y  y  y  n  n  n  y  y  y  n  n  n  n  n  n  y\n",
      "420  republican  y  y  y  y  y  y  y  y  n  y  n  n  y  y  n  y\n",
      "426    democrat  y  n  y  n  n  n  y  y  y  y  n  n  n  n  y  y\n",
      "429    democrat  y  n  y  n  ?  n  y  y  y  y  n  y  n  ?  y  y\n",
      "\n",
      "[187 rows x 17 columns]\n",
      "             0  1  2  3  4  5  6  7  8  9  10 11 12 13 14 15 16\n",
      "0    republican  n  y  n  y  y  y  n  n  n  y  ?  y  y  y  n  y\n",
      "1    republican  n  y  n  y  y  y  n  n  n  n  n  y  y  y  n  ?\n",
      "3      democrat  n  y  y  n  ?  y  n  n  n  n  y  n  y  n  n  y\n",
      "5      democrat  n  y  y  n  y  y  n  n  n  n  n  n  y  y  y  y\n",
      "6      democrat  n  y  n  y  y  y  n  n  n  n  n  n  ?  y  y  y\n",
      "7    republican  n  y  n  y  y  y  n  n  n  n  n  n  y  y  ?  y\n",
      "8    republican  n  y  n  y  y  y  n  n  n  n  n  y  y  y  n  y\n",
      "10   republican  n  y  n  y  y  n  n  n  n  n  ?  ?  y  y  n  n\n",
      "11   republican  n  y  n  y  y  y  n  n  n  n  y  ?  y  y  ?  ?\n",
      "12     democrat  n  y  y  n  n  n  y  y  y  n  n  n  y  n  ?  ?\n",
      "14   republican  n  y  n  y  y  y  n  n  n  n  n  y  ?  ?  n  ?\n",
      "15   republican  n  y  n  y  y  y  n  n  n  y  n  y  y  ?  n  ?\n",
      "18   republican  n  y  n  y  y  y  n  n  n  n  n  ?  y  y  n  n\n",
      "30   republican  n  y  n  y  y  y  n  n  n  n  n  y  y  y  n  n\n",
      "33   republican  n  y  n  y  y  y  n  n  n  n  n  y  y  y  n  y\n",
      "35   republican  n  y  n  y  y  y  n  n  n  n  n  y  y  y  n  n\n",
      "38   republican  n  y  n  y  y  y  n  n  n  y  n  y  y  y  n  n\n",
      "49   republican  n  ?  n  y  y  y  n  n  n  n  n  y  y  y  n  n\n",
      "51   republican  n  y  n  y  y  y  n  ?  n  n  n  y  y  y  n  y\n",
      "55   republican  n  y  n  y  y  y  n  n  n  y  y  y  y  y  n  n\n",
      "56   republican  n  y  n  y  y  y  n  n  n  y  y  y  y  y  n  y\n",
      "57   republican  n  y  n  y  y  y  n  n  n  y  n  y  y  y  n  y\n",
      "58   republican  n  y  n  y  y  y  n  n  n  y  n  y  y  y  n  y\n",
      "59   republican  n  y  n  y  y  y  n  n  n  y  n  y  y  y  n  ?\n",
      "61   republican  n  y  n  y  y  y  n  n  n  n  n  y  y  y  n  n\n",
      "66   republican  n  y  n  y  y  y  y  n  n  n  y  y  y  y  n  y\n",
      "67   republican  n  y  n  y  y  y  n  n  n  y  n  y  y  y  n  n\n",
      "75     democrat  n  y  y  y  y  y  n  n  n  y  y  n  y  y  n  n\n",
      "76     democrat  n  y  y  n  y  y  n  n  n  y  y  y  y  y  n  ?\n",
      "77     democrat  n  y  y  y  y  y  n  y  y  y  y  y  y  y  n  y\n",
      "..          ... .. .. .. .. .. .. .. .. .. .. .. .. .. .. .. ..\n",
      "373    democrat  n  y  y  ?  y  y  n  y  n  y  ?  n  y  y  ?  y\n",
      "374  republican  n  y  n  y  y  y  n  n  n  n  n  y  y  y  n  y\n",
      "375    democrat  n  y  n  y  y  y  n  n  n  n  y  y  n  y  n  n\n",
      "377  republican  n  y  n  y  y  y  ?  ?  n  n  ?  ?  y  ?  ?  ?\n",
      "378  republican  n  n  n  y  y  y  n  n  n  n  n  y  y  y  n  y\n",
      "379  republican  n  n  n  y  y  y  n  n  n  n  n  y  y  y  n  y\n",
      "386    democrat  n  ?  y  n  y  y  n  y  n  n  y  n  n  n  n  ?\n",
      "388    democrat  n  y  y  y  y  y  n  n  n  n  n  y  y  y  n  ?\n",
      "398    democrat  n  y  y  n  y  y  n  y  n  n  n  n  n  n  n  y\n",
      "399  republican  n  y  n  y  ?  y  n  n  n  y  n  y  y  y  n  n\n",
      "400  republican  n  y  n  y  y  y  n  ?  n  n  ?  ?  ?  y  n  ?\n",
      "401  republican  n  y  n  y  y  y  n  n  n  y  y  y  y  y  n  n\n",
      "403  republican  n  y  n  y  y  y  n  n  n  y  n  y  ?  y  n  n\n",
      "405  republican  n  n  n  y  y  y  n  n  n  n  n  y  y  y  n  y\n",
      "407    democrat  n  n  n  y  y  y  n  n  n  n  y  y  y  y  n  n\n",
      "409  republican  n  n  n  y  y  y  n  n  n  n  n  y  y  y  n  n\n",
      "410  republican  n  n  n  y  y  y  n  n  n  n  y  y  y  y  n  y\n",
      "412  republican  n  n  n  y  y  y  n  n  n  y  n  y  y  y  n  y\n",
      "415    democrat  n  y  y  n  n  y  y  y  ?  y  n  n  n  n  n  y\n",
      "421    democrat  n  y  y  n  y  y  y  y  n  n  y  n  y  n  y  y\n",
      "422    democrat  n  n  y  n  n  y  y  y  y  n  y  n  n  n  y  y\n",
      "423    democrat  n  y  y  n  n  y  y  y  y  n  y  n  n  y  y  y\n",
      "424    democrat  n  y  y  n  n  ?  y  y  y  y  y  n  ?  y  y  y\n",
      "425    democrat  n  n  y  n  n  n  y  y  n  y  y  n  n  n  y  ?\n",
      "427  republican  n  n  n  y  y  y  y  y  n  y  n  y  y  y  n  y\n",
      "430  republican  n  n  y  y  y  y  n  n  y  y  n  y  y  y  n  y\n",
      "431    democrat  n  n  y  n  n  n  y  y  y  y  n  n  n  n  n  y\n",
      "432  republican  n  ?  n  y  y  y  n  n  n  n  y  y  y  y  n  y\n",
      "433  republican  n  n  n  y  y  y  ?  ?  ?  ?  n  y  y  y  n  y\n",
      "434  republican  n  y  n  y  y  y  n  n  n  y  n  y  y  y  ?  n\n",
      "\n",
      "[236 rows x 17 columns]\n"
     ]
    }
   ],
   "source": [
    "no = data[data[1] == \"n\"]\n",
    "yes = data[data[1] == \"y\"]\n",
    "\n",
    "print(yes)\n",
    "print(no)"
   ]
  },
  {
   "cell_type": "markdown",
   "metadata": {},
   "source": [
    "## 2. 2. Compute the percentage of republicans and democrats in both of your subset."
   ]
  },
  {
   "cell_type": "code",
   "execution_count": 7,
   "metadata": {},
   "outputs": [
    {
     "name": "stdout",
     "output_type": "stream",
     "text": [
      "No Democrat:  43.2%\n",
      "Yes Republican:  16.6%\n",
      "No Republican:  56.8%\n",
      "Yes Democrat:  83.4%\n"
     ]
    }
   ],
   "source": [
    "data\n",
    " \n",
    "no = data[data[1] == 'n']\n",
    "yes = data[data[1] == 'y']\n",
    "nodemocrat = len(no[no[0] == 'democrat'])/len(no)\n",
    "yesrepublican = len(yes[yes[0] == 'republican'])/len(yes)\n",
    "noRepublican = len(no[no[0] == 'republican'])/len(no)\n",
    "yesDemoncrat = len(yes[yes[0] == 'democrat'])/len(yes)\n",
    "print(\"No Democrat: \", '{:.01%}'.format(nodemocrat))\n",
    "print(\"Yes Republican: \", '{:.01%}'.format(yesrepublican))\n",
    "print(\"No Republican: \", '{:.01%}'.format(noRepublican))\n",
    "print(\"Yes Democrat: \", '{:.01%}'.format(yesDemoncrat))"
   ]
  },
  {
   "cell_type": "markdown",
   "metadata": {},
   "source": [
    "## 2. 3. Compute entropy for both yea and nay-voters."
   ]
  },
  {
   "cell_type": "code",
   "execution_count": 8,
   "metadata": {},
   "outputs": [
    {
     "name": "stdout",
     "output_type": "stream",
     "text": [
      "Yes Republicans and Yes Democrats:  64.8%\n",
      "No Republicans and No Democrats:  98.7%\n"
     ]
    }
   ],
   "source": [
    "democrats = data.apply(pd.value_counts).T['democrat'][0]\n",
    "republicans = data.apply(pd.value_counts).T['republican'][0]\n",
    "demo = democrats/ (democrats + republicans)\n",
    "rep = republicans/ (democrats + republicans)\n",
    "import math\n",
    "\n",
    "def heat(x, y):\n",
    "    return -1 * x * math.log2(x) - y * math.log2(y)\n",
    "democrats = data.apply(pd.value_counts).T['democrat'][0]\n",
    "republicans = data.apply(pd.value_counts).T['republican'][0]\n",
    "print(\"Yes Republicans and Yes Democrats: \", '{:.01%}'.format(heat(yesrepublican, yesDemoncrat)))\n",
    "print(\"No Republicans and No Democrats: \", '{:.01%}'.format(heat(nodemocrat, noRepublican)))"
   ]
  },
  {
   "cell_type": "markdown",
   "metadata": {},
   "source": [
    "## 2. 4. Compute the weighted average entropy for each potential split."
   ]
  },
  {
   "cell_type": "code",
   "execution_count": 14,
   "metadata": {
    "collapsed": true
   },
   "outputs": [],
   "source": [
    "def entropy(index):\n",
    "    no = data[data[index] == 'n']\n",
    "    yes = data[data[index] == 'y']\n",
    "    nodemocrat = len(no[no[0] == 'democrat'])/len(no)\n",
    "    yesrepublican = len(yes[yes[0] == 'republican'])/len(yes)\n",
    "    noRepublican = len(no[no[0] == 'republican'])/len(no)\n",
    "    yesDemoncrat = len(yes[yes[0] == 'democrat'])/len(yes)\n",
    "    yesheat = heat(yesrepublican, yesDemoncrat)\n",
    "    noheat = heat(nodemocrat, noRepublican)\n",
    "    return (yesheat *len(yes) + noheat * len(no)) / (len(yes) + len(no))\n"
   ]
  },
  {
   "cell_type": "code",
   "execution_count": 15,
   "metadata": {},
   "outputs": [
    {
     "name": "stdout",
     "output_type": "stream",
     "text": [
      "Column  1 :  0.8369429207599165\n",
      "Column  2 :  0.9597246290117215\n",
      "Column  3 :  0.5192054019756008\n",
      "Column  4 :  0.20611069684434918\n",
      "Column  5 :  0.5333550427760921\n",
      "Column  6 :  0.8184728944688933\n",
      "Column  7 :  0.7572889383940947\n",
      "Column  8 :  0.6144195668030937\n",
      "Column  9 :  0.6558589844994812\n",
      "Column  10 :  0.9567682067352358\n",
      "Column  11 :  0.8484111687456118\n",
      "Column  12 :  0.5578936512136129\n",
      "Column  13 :  0.7200897306908763\n",
      "Column  14 :  0.6127739303645243\n",
      "Column  15 :  0.7251662719007257\n",
      "Column  16 :  0.8967495583804945\n"
     ]
    }
   ],
   "source": [
    "minI = 1\n",
    "minEntropy = entropy(1)\n",
    "\n",
    "for i in data.columns:\n",
    "    if (i != 0):\n",
    "        if (entropy(i) < minEntropy):\n",
    "            minEntropy = entropy(i)\n",
    "            minI = i\n",
    "        print(\"Column \", i, \": \", entropy(i))"
   ]
  },
  {
   "cell_type": "markdown",
   "metadata": {},
   "source": [
    "## 2. 5. Which feature will give the minimum average entropy? This is the best split!"
   ]
  },
  {
   "cell_type": "code",
   "execution_count": 16,
   "metadata": {},
   "outputs": [
    {
     "name": "stdout",
     "output_type": "stream",
     "text": [
      "Largest average entropy is  0.20611069684434918  at column  4\n"
     ]
    }
   ],
   "source": [
    "print(\"Largest average entropy is \", minEntropy, \" at column \", minI)"
   ]
  }
 ],
 "metadata": {
  "kernelspec": {
   "display_name": "Python 3",
   "language": "python",
   "name": "python3"
  },
  "language_info": {
   "codemirror_mode": {
    "name": "ipython",
    "version": 3
   },
   "file_extension": ".py",
   "mimetype": "text/x-python",
   "name": "python",
   "nbconvert_exporter": "python",
   "pygments_lexer": "ipython3",
   "version": "3.6.3"
  }
 },
 "nbformat": 4,
 "nbformat_minor": 2
}
