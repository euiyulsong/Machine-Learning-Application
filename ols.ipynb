{
 "cells": [
  {
   "cell_type": "markdown",
   "metadata": {
    "ein.tags": "worksheet-0",
    "slideshow": {
     "slide_type": "-"
    }
   },
   "source": [
    "# Problem Set 3, due Feb 12 at 10:30am."
   ]
  },
  {
   "cell_type": "markdown",
   "metadata": {
    "ein.tags": "worksheet-0",
    "slideshow": {
     "slide_type": "-"
    }
   },
   "source": [
    "## Introduction to the assignment\n",
    "\n",
    "For this assignment, you will be using data from the [Progresa\n",
    "program](http://en.wikipedia.org/wiki/Oportunidades), a government\n",
    "social assistance program in Mexico. This program, as well as the\n",
    "details of its impact, are described in the paper \"[School subsidies\n",
    "for the poor: evaluating the Mexican Progresa poverty\n",
    "program](http://www.sciencedirect.com/science/article/pii/S0304387803001858)\",\n",
    "by Paul Shultz (available on Canvas).  The data\n",
    "(progresa_sample.csv.gz) is available on canvas\n",
    "in files/data.\n",
    "\n",
    "Please read the paper to familiarize yourself with\n",
    "the PROGRESA program before beginning this problem set, so you have a\n",
    "rough sense of where the data come from and how they were\n",
    "generated. If you just proceed into the problem set without\n",
    "understanding Progresa or the data, it will be very difficult!\n",
    "\n",
    "The goal of this problem set is to implement some of the basic\n",
    "econometric techniques that you are learning in class to measure the\n",
    "impact of Progresa on secondary school enrollment rates. The timeline\n",
    "of the program was:\n",
    "\n",
    " * Baseline survey conducted in 1997\n",
    " * Intervention begins in 1998, \"Wave 1\" of data collected in 1998\n",
    " * \"Wave 2 of data\" collected in 1999\n",
    " * Evaluation ends in 2000, at which point the control villages were treated. \n",
    " \n",
    "When you are ready, download the progresa_sample.csv data from\n",
    "Canvas. The data are actual data collected to evaluate the impact of\n",
    "the Progresa program.  In this file, each row corresponds to an\n",
    "observation taken for a given child for a given year. There are two\n",
    "years of data (1997 and 1998), and just under 40,000 children who are\n",
    "surveyed in both years.  For each child-year observation, the\n",
    "following variables are collected:\n",
    "\n",
    "| Variable name | Description|\n",
    "|------|------|\n",
    "|year\t  |year in which data is collected\n",
    "|sex\t  |male = 1|\n",
    "|indig\t  |indigenous = 1|\n",
    "|dist_sec |nearest distance to a secondary school|\n",
    "|sc\t      |enrolled in school in year of survey|\n",
    "|grc      |grade enrolled|\n",
    "|fam_n    |family size|\n",
    "|min_dist |\tmin distance to an urban center|\n",
    "|dist_cap |\tmin distance to the capital|\n",
    "|poor     |\tpoor = \"pobre\"|\n",
    "|progresa |treatment = \"basal\"|\n",
    "|hohedu\t  |years of schooling of head of household|\n",
    "|hohwag\t  |monthly wages of head of household|\n",
    "|welfare_index|\twelfare index used to classify poor|\n",
    "|hohsex\t|gender of head of household (male=1)|\n",
    "|hohage\t|age of head of household|\n",
    "|age\t|years old|\n",
    "|folnum\t|individual id|\n",
    "|village|\tvillage id|\n",
    "|sc97\t|schooling in 1997|\n"
   ]
  },
  {
   "cell_type": "markdown",
   "metadata": {
    "ein.tags": "worksheet-0",
    "slideshow": {
     "slide_type": "-"
    }
   },
   "source": [
    "## Part 1: Descriptive analysis\n",
    "\n",
    "### 1.1\tSummary Statistics\n",
    "\n",
    "Report summary statistics (mean, standard deviation, and number of missings) for all of\n",
    "the demographic variables in the dataset (i.e., everything except\n",
    "year, folnum, village).  Present the actual levels for 'progresa' and\n",
    "'poor'.  Do these fit with the documentation above?\n",
    "\n",
    "Present these in a single table alphabetized\n",
    "by variable name. Do NOT simply expect the grader to scroll through\n",
    "your output!"
   ]
  },
  {
   "cell_type": "code",
   "execution_count": 2,
   "metadata": {
    "autoscroll": false,
    "ein.tags": "worksheet-0",
    "slideshow": {
     "slide_type": "-"
    }
   },
   "outputs": [
    {
     "data": {
      "text/html": [
       "<div>\n",
       "<style>\n",
       "    .dataframe thead tr:only-child th {\n",
       "        text-align: right;\n",
       "    }\n",
       "\n",
       "    .dataframe thead th {\n",
       "        text-align: left;\n",
       "    }\n",
       "\n",
       "    .dataframe tbody tr th {\n",
       "        vertical-align: top;\n",
       "    }\n",
       "</style>\n",
       "<table border=\"1\" class=\"dataframe\">\n",
       "  <thead>\n",
       "    <tr style=\"text-align: right;\">\n",
       "      <th></th>\n",
       "      <th>mean</th>\n",
       "      <th>std</th>\n",
       "      <th>missing</th>\n",
       "    </tr>\n",
       "  </thead>\n",
       "  <tbody>\n",
       "    <tr>\n",
       "      <th>sex</th>\n",
       "      <td>0.512211</td>\n",
       "      <td>0.499854</td>\n",
       "      <td>24</td>\n",
       "    </tr>\n",
       "    <tr>\n",
       "      <th>indig</th>\n",
       "      <td>0.298324</td>\n",
       "      <td>0.457525</td>\n",
       "      <td>300</td>\n",
       "    </tr>\n",
       "    <tr>\n",
       "      <th>dist_sec</th>\n",
       "      <td>2.418910</td>\n",
       "      <td>2.234109</td>\n",
       "      <td>0</td>\n",
       "    </tr>\n",
       "    <tr>\n",
       "      <th>sc</th>\n",
       "      <td>0.819818</td>\n",
       "      <td>0.384342</td>\n",
       "      <td>8453</td>\n",
       "    </tr>\n",
       "    <tr>\n",
       "      <th>grc</th>\n",
       "      <td>3.963537</td>\n",
       "      <td>2.499063</td>\n",
       "      <td>6549</td>\n",
       "    </tr>\n",
       "    <tr>\n",
       "      <th>fam_n</th>\n",
       "      <td>7.215715</td>\n",
       "      <td>2.352900</td>\n",
       "      <td>0</td>\n",
       "    </tr>\n",
       "    <tr>\n",
       "      <th>min_dist</th>\n",
       "      <td>103.447520</td>\n",
       "      <td>42.089441</td>\n",
       "      <td>0</td>\n",
       "    </tr>\n",
       "    <tr>\n",
       "      <th>dist_cap</th>\n",
       "      <td>147.674452</td>\n",
       "      <td>76.063134</td>\n",
       "      <td>0</td>\n",
       "    </tr>\n",
       "    <tr>\n",
       "      <th>poor</th>\n",
       "      <td>0.846498</td>\n",
       "      <td>0.360473</td>\n",
       "      <td>0</td>\n",
       "    </tr>\n",
       "    <tr>\n",
       "      <th>progresa</th>\n",
       "      <td>0.615663</td>\n",
       "      <td>0.486441</td>\n",
       "      <td>0</td>\n",
       "    </tr>\n",
       "    <tr>\n",
       "      <th>hohedu</th>\n",
       "      <td>2.768104</td>\n",
       "      <td>2.656106</td>\n",
       "      <td>0</td>\n",
       "    </tr>\n",
       "    <tr>\n",
       "      <th>hohwag</th>\n",
       "      <td>586.985312</td>\n",
       "      <td>788.133664</td>\n",
       "      <td>0</td>\n",
       "    </tr>\n",
       "    <tr>\n",
       "      <th>welfare_index</th>\n",
       "      <td>690.346564</td>\n",
       "      <td>139.491130</td>\n",
       "      <td>210</td>\n",
       "    </tr>\n",
       "    <tr>\n",
       "      <th>hohsex</th>\n",
       "      <td>0.925185</td>\n",
       "      <td>0.263095</td>\n",
       "      <td>20</td>\n",
       "    </tr>\n",
       "    <tr>\n",
       "      <th>hohage</th>\n",
       "      <td>44.436717</td>\n",
       "      <td>11.620372</td>\n",
       "      <td>10</td>\n",
       "    </tr>\n",
       "    <tr>\n",
       "      <th>age</th>\n",
       "      <td>11.366460</td>\n",
       "      <td>3.167744</td>\n",
       "      <td>0</td>\n",
       "    </tr>\n",
       "    <tr>\n",
       "      <th>grc97</th>\n",
       "      <td>3.705372</td>\n",
       "      <td>2.572387</td>\n",
       "      <td>0</td>\n",
       "    </tr>\n",
       "    <tr>\n",
       "      <th>sc97</th>\n",
       "      <td>0.813922</td>\n",
       "      <td>0.389172</td>\n",
       "      <td>3872</td>\n",
       "    </tr>\n",
       "  </tbody>\n",
       "</table>\n",
       "</div>"
      ],
      "text/plain": [
       "                     mean         std  missing\n",
       "sex              0.512211    0.499854       24\n",
       "indig            0.298324    0.457525      300\n",
       "dist_sec         2.418910    2.234109        0\n",
       "sc               0.819818    0.384342     8453\n",
       "grc              3.963537    2.499063     6549\n",
       "fam_n            7.215715    2.352900        0\n",
       "min_dist       103.447520   42.089441        0\n",
       "dist_cap       147.674452   76.063134        0\n",
       "poor             0.846498    0.360473        0\n",
       "progresa         0.615663    0.486441        0\n",
       "hohedu           2.768104    2.656106        0\n",
       "hohwag         586.985312  788.133664        0\n",
       "welfare_index  690.346564  139.491130      210\n",
       "hohsex           0.925185    0.263095       20\n",
       "hohage          44.436717   11.620372       10\n",
       "age             11.366460    3.167744        0\n",
       "grc97            3.705372    2.572387        0\n",
       "sc97             0.813922    0.389172     3872"
      ]
     },
     "execution_count": 2,
     "metadata": {},
     "output_type": "execute_result"
    }
   ],
   "source": [
    "# your code here\n",
    "import pandas as pd\n",
    "import numpy as np\n",
    "\n",
    "data = pd.read_table('progresa_sample.csv', sep = \",\").drop(['year', 'folnum', 'village'], axis=1)\n",
    "data['poor'] = (data['poor'] == 'pobre').astype(int)\n",
    "data['progresa'] = (data['progresa'] == 'basal').astype(int)\n",
    "data2 = data.describe()[1:3].T\n",
    "data2['missing'] = data.isnull().sum()\n",
    "data2"
   ]
  },
  {
   "cell_type": "markdown",
   "metadata": {
    "ein.tags": "worksheet-0",
    "slideshow": {
     "slide_type": "-"
    }
   },
   "source": [
    "### 1.2 Differences at baseline?\n",
    "\n",
    "Are the baseline (1997) demographic characteristics **for the poor**\n",
    "different in treatment and control villages? Hint: Use a T-Test to\n",
    "determine whether there is a statistically significant difference in\n",
    "the average values of each of the variables in the dataset. Focus only\n",
    "on the data from 1997 for individuals who are poor (i.e.,\n",
    "poor=='pobre').\n",
    "\n",
    "Present your results in a single table with the following columns and 14 (or so) rows:\n",
    "\n",
    "| Variable name | Average value (Treatment villages) | Average value (Control villages) | Difference (Treat - Control) | p-value |\n",
    "|------|------|------|------|------|\n",
    "|Male|?|?|?|?|\n"
   ]
  },
  {
   "cell_type": "code",
   "execution_count": 3,
   "metadata": {},
   "outputs": [
    {
     "data": {
      "text/html": [
       "<div>\n",
       "<style>\n",
       "    .dataframe thead tr:only-child th {\n",
       "        text-align: right;\n",
       "    }\n",
       "\n",
       "    .dataframe thead th {\n",
       "        text-align: left;\n",
       "    }\n",
       "\n",
       "    .dataframe tbody tr th {\n",
       "        vertical-align: top;\n",
       "    }\n",
       "</style>\n",
       "<table border=\"1\" class=\"dataframe\">\n",
       "  <thead>\n",
       "    <tr style=\"text-align: right;\">\n",
       "      <th></th>\n",
       "      <th>Variable name</th>\n",
       "      <th>Average value (Treatment villages)</th>\n",
       "      <th>Average value (Control villages)</th>\n",
       "      <th>Difference (Treat - Control)</th>\n",
       "      <th>p-value</th>\n",
       "    </tr>\n",
       "  </thead>\n",
       "  <tbody>\n",
       "    <tr>\n",
       "      <th>0</th>\n",
       "      <td>sex</td>\n",
       "      <td>0.519317</td>\n",
       "      <td>0.505052</td>\n",
       "      <td>2.334621</td>\n",
       "      <td>1.956962e-02</td>\n",
       "    </tr>\n",
       "    <tr>\n",
       "      <th>1</th>\n",
       "      <td>indig</td>\n",
       "      <td>0.325986</td>\n",
       "      <td>0.332207</td>\n",
       "      <td>-1.561670</td>\n",
       "      <td>1.183760e-01</td>\n",
       "    </tr>\n",
       "    <tr>\n",
       "      <th>2</th>\n",
       "      <td>dist_sec</td>\n",
       "      <td>2.453122</td>\n",
       "      <td>2.507662</td>\n",
       "      <td>-0.041252</td>\n",
       "      <td>9.670949e-01</td>\n",
       "    </tr>\n",
       "    <tr>\n",
       "      <th>3</th>\n",
       "      <td>sc</td>\n",
       "      <td>0.822697</td>\n",
       "      <td>0.815186</td>\n",
       "      <td>1.689261</td>\n",
       "      <td>9.117959e-02</td>\n",
       "    </tr>\n",
       "    <tr>\n",
       "      <th>4</th>\n",
       "      <td>grc</td>\n",
       "      <td>3.531599</td>\n",
       "      <td>3.543050</td>\n",
       "      <td>-0.851002</td>\n",
       "      <td>3.947750e-01</td>\n",
       "    </tr>\n",
       "    <tr>\n",
       "      <th>5</th>\n",
       "      <td>fam_n</td>\n",
       "      <td>7.281327</td>\n",
       "      <td>7.302469</td>\n",
       "      <td>-0.800187</td>\n",
       "      <td>4.236088e-01</td>\n",
       "    </tr>\n",
       "    <tr>\n",
       "      <th>6</th>\n",
       "      <td>min_dist</td>\n",
       "      <td>107.152915</td>\n",
       "      <td>103.237854</td>\n",
       "      <td>8.766462</td>\n",
       "      <td>1.936661e-18</td>\n",
       "    </tr>\n",
       "    <tr>\n",
       "      <th>7</th>\n",
       "      <td>dist_cap</td>\n",
       "      <td>150.829074</td>\n",
       "      <td>153.769730</td>\n",
       "      <td>-2.927983</td>\n",
       "      <td>3.414194e-03</td>\n",
       "    </tr>\n",
       "    <tr>\n",
       "      <th>8</th>\n",
       "      <td>hohedu</td>\n",
       "      <td>2.663139</td>\n",
       "      <td>2.590348</td>\n",
       "      <td>2.224346</td>\n",
       "      <td>2.613239e-02</td>\n",
       "    </tr>\n",
       "    <tr>\n",
       "      <th>9</th>\n",
       "      <td>hohwag</td>\n",
       "      <td>544.339544</td>\n",
       "      <td>573.163558</td>\n",
       "      <td>-3.640301</td>\n",
       "      <td>2.727661e-04</td>\n",
       "    </tr>\n",
       "    <tr>\n",
       "      <th>10</th>\n",
       "      <td>welfare_index</td>\n",
       "      <td>655.428377</td>\n",
       "      <td>659.579100</td>\n",
       "      <td>-3.559301</td>\n",
       "      <td>3.724043e-04</td>\n",
       "    </tr>\n",
       "    <tr>\n",
       "      <th>11</th>\n",
       "      <td>hohsex</td>\n",
       "      <td>0.924656</td>\n",
       "      <td>0.922947</td>\n",
       "      <td>0.709333</td>\n",
       "      <td>4.781232e-01</td>\n",
       "    </tr>\n",
       "    <tr>\n",
       "      <th>12</th>\n",
       "      <td>hohage</td>\n",
       "      <td>43.648828</td>\n",
       "      <td>44.276918</td>\n",
       "      <td>-4.761979</td>\n",
       "      <td>1.925767e-06</td>\n",
       "    </tr>\n",
       "    <tr>\n",
       "      <th>13</th>\n",
       "      <td>age</td>\n",
       "      <td>10.716991</td>\n",
       "      <td>10.742023</td>\n",
       "      <td>-1.156182</td>\n",
       "      <td>2.476155e-01</td>\n",
       "    </tr>\n",
       "    <tr>\n",
       "      <th>14</th>\n",
       "      <td>grc97</td>\n",
       "      <td>3.531599</td>\n",
       "      <td>3.543050</td>\n",
       "      <td>-0.851002</td>\n",
       "      <td>3.947750e-01</td>\n",
       "    </tr>\n",
       "    <tr>\n",
       "      <th>15</th>\n",
       "      <td>sc97</td>\n",
       "      <td>0.822697</td>\n",
       "      <td>0.815186</td>\n",
       "      <td>1.689261</td>\n",
       "      <td>9.117959e-02</td>\n",
       "    </tr>\n",
       "  </tbody>\n",
       "</table>\n",
       "</div>"
      ],
      "text/plain": [
       "    Variable name  Average value (Treatment villages)  \\\n",
       "0             sex                            0.519317   \n",
       "1           indig                            0.325986   \n",
       "2        dist_sec                            2.453122   \n",
       "3              sc                            0.822697   \n",
       "4             grc                            3.531599   \n",
       "5           fam_n                            7.281327   \n",
       "6        min_dist                          107.152915   \n",
       "7        dist_cap                          150.829074   \n",
       "8          hohedu                            2.663139   \n",
       "9          hohwag                          544.339544   \n",
       "10  welfare_index                          655.428377   \n",
       "11         hohsex                            0.924656   \n",
       "12         hohage                           43.648828   \n",
       "13            age                           10.716991   \n",
       "14          grc97                            3.531599   \n",
       "15           sc97                            0.822697   \n",
       "\n",
       "    Average value (Control villages)  Difference (Treat - Control)  \\\n",
       "0                           0.505052                      2.334621   \n",
       "1                           0.332207                     -1.561670   \n",
       "2                           2.507662                     -0.041252   \n",
       "3                           0.815186                      1.689261   \n",
       "4                           3.543050                     -0.851002   \n",
       "5                           7.302469                     -0.800187   \n",
       "6                         103.237854                      8.766462   \n",
       "7                         153.769730                     -2.927983   \n",
       "8                           2.590348                      2.224346   \n",
       "9                         573.163558                     -3.640301   \n",
       "10                        659.579100                     -3.559301   \n",
       "11                          0.922947                      0.709333   \n",
       "12                         44.276918                     -4.761979   \n",
       "13                         10.742023                     -1.156182   \n",
       "14                          3.543050                     -0.851002   \n",
       "15                          0.815186                      1.689261   \n",
       "\n",
       "         p-value  \n",
       "0   1.956962e-02  \n",
       "1   1.183760e-01  \n",
       "2   9.670949e-01  \n",
       "3   9.117959e-02  \n",
       "4   3.947750e-01  \n",
       "5   4.236088e-01  \n",
       "6   1.936661e-18  \n",
       "7   3.414194e-03  \n",
       "8   2.613239e-02  \n",
       "9   2.727661e-04  \n",
       "10  3.724043e-04  \n",
       "11  4.781232e-01  \n",
       "12  1.925767e-06  \n",
       "13  2.476155e-01  \n",
       "14  3.947750e-01  \n",
       "15  9.117959e-02  "
      ]
     },
     "execution_count": 3,
     "metadata": {},
     "output_type": "execute_result"
    }
   ],
   "source": [
    "from scipy import stats\n",
    "data = pd.read_table('progresa_sample.csv', sep = \",\")\n",
    "treat = data[(data['poor'] == 'pobre') & (data['year'] == 97) & (data['progresa'] == 'basal')]\n",
    "control = data[(data['poor'] == 'pobre') & (data['year'] == 97) & (data['progresa'] != 'basal')]\n",
    "names = ['sex', 'indig', 'dist_sec', 'sc', 'grc', 'fam_n', 'min_dist', 'dist_cap', 'hohedu', 'hohwag', 'welfare_index', 'hohsex', 'hohage', 'age', 'grc97', 'sc97']\n",
    "output = pd.DataFrame(columns=['Variable name', 'Average value (Treatment villages)', 'Average value (Control villages)', 'Difference (Treat - Control)', 'p-value'])\n",
    "count = 0;\n",
    "for i in names:\n",
    "    output.loc[count] = [i, treat[i].mean(), control[i].mean(), stats.ttest_ind(treat.dropna()[i], control.dropna()[i])[0], stats.ttest_ind(treat.dropna()[i], control.dropna()[i])[1]]     \n",
    "    count = count + 1\n",
    "output"
   ]
  },
  {
   "cell_type": "markdown",
   "metadata": {
    "ein.tags": "worksheet-0",
    "slideshow": {
     "slide_type": "-"
    }
   },
   "source": [
    "### 1.3 Interpretation\n",
    "\n",
    "* A: Are there statistically significant differences between treatment and control villages as baseline? \n",
    "* B: Why does it matter if there are differences at baseline?\n",
    "* C: What does this imply about how to measure the impact of the treatment?"
   ]
  },
  {
   "cell_type": "markdown",
   "metadata": {
    "ein.tags": "worksheet-0",
    "slideshow": {
     "slide_type": "-"
    }
   },
   "source": [
    "If the p-value is less than 0.05, we reject the null hypothesis that there's no difference between the means and conclude that a significant difference does exist.\n",
    "\n",
    "A: There are statistically significant differences between treatment and control villages in the average value of sex, min distance to an urban center, min distance to the capital, years of schooling of head of household, monthly wages of head of household, welfare index used to classify poor, and age of head of household. It is because their p-value is less than 0.05\n",
    "\n",
    "B: It does matter if there are differences at baseline, because it means that there is strong evidence against the null hypothesis that there is no difference between the means. This difference shows that the progresa impacted the average value of above variables.\n",
    "\n",
    "C: This implies that we can measure the impact of the treatment by determining the p-value where p-value smaller than 0.05 shows impact of the progresa on the average value of the variable based on the baseline mean."
   ]
  },
  {
   "cell_type": "markdown",
   "metadata": {
    "ein.tags": "worksheet-0",
    "slideshow": {
     "slide_type": "-"
    }
   },
   "source": [
    "### 1.4 Graphical exploration, part 1\n",
    "\n",
    "For each level of household head education, compute the average\n",
    "enrollment rate in 1997. Create a scatterplot that shows this\n",
    "relationship. What do you notice?"
   ]
  },
  {
   "cell_type": "code",
   "execution_count": 4,
   "metadata": {
    "autoscroll": false,
    "ein.tags": "worksheet-0",
    "slideshow": {
     "slide_type": "-"
    }
   },
   "outputs": [
    {
     "data": {
      "image/png": "[encoded data removed]",
      "text/plain": [
       "<matplotlib.figure.Figure at 0x10daf9160>"
      ]
     },
     "metadata": {},
     "output_type": "display_data"
    }
   ],
   "source": [
    "# Your code here\n",
    "import matplotlib.pyplot as plt\n",
    "average = data[data['year'] == 97].groupby(['hohedu'])['sc'].mean()\n",
    "x = data['hohedu'].unique()\n",
    "plt.figure(figsize = (10, 10))\n",
    "plt.scatter(x, average)\n",
    "plt.show()\n",
    "\n"
   ]
  },
  {
   "cell_type": "markdown",
   "metadata": {
    "ein.tags": "worksheet-0",
    "slideshow": {
     "slide_type": "-"
    }
   },
   "source": [
    "According to the scatterplot, average enrollment rate increases as the level of household head education increases. However, there is unexpected drop - outlier - on average enrollment rate at 20 years of schooling of head of household where the average enrollment rate was 0.5. "
   ]
  },
  {
   "cell_type": "markdown",
   "metadata": {
    "ein.tags": "worksheet-0",
    "slideshow": {
     "slide_type": "-"
    }
   },
   "source": [
    "### 1.5 Graphical exploration, part 2\n",
    "\n",
    "Create a histogram of village enrollment rates **among poor households\n",
    "in treated villages**, before and after treatment.  Specifically, for\n",
    "each village, calculate the average rate of enrollment of poor\n",
    "households in treated villages in 1997, then compute the average rate\n",
    "of enrollment of poor households in treated villages in 1998. Create\n",
    "two separate histograms showing the distribution of these average\n",
    "enrollments rates, one histogram for 1997 and one histogram for 1998. On each histogram, draw a vertical line that intersects the\n",
    "x-axis at the average value (across all households). Does there appear\n",
    "to be a difference? Is this difference statistically significant?"
   ]
  },
  {
   "cell_type": "code",
   "execution_count": 5,
   "metadata": {
    "autoscroll": false,
    "ein.tags": "worksheet-0",
    "slideshow": {
     "slide_type": "-"
    }
   },
   "outputs": [
    {
     "data": {
      "image/png": "[encoded data removed]",
      "text/plain": [
       "<matplotlib.figure.Figure at 0x11701ca58>"
      ]
     },
     "metadata": {},
     "output_type": "display_data"
    },
    {
     "data": {
      "image/png": "[encoded data removed]",
      "text/plain": [
       "<matplotlib.figure.Figure at 0x117076b38>"
      ]
     },
     "metadata": {},
     "output_type": "display_data"
    },
    {
     "data": {
      "text/plain": [
       "Ttest_indResult(statistic=-2.0157134865156379, pvalue=0.04424870036572115)"
      ]
     },
     "execution_count": 5,
     "metadata": {},
     "output_type": "execute_result"
    }
   ],
   "source": [
    "# Your code here\n",
    "import statsmodels.formula.api as smf\n",
    "\n",
    "mean_enrollment_poor = data[(data['poor'] =='pobre') & (data['year'] == 97) & (data['progresa'] == 'basal')].groupby('village')['sc'].mean()\n",
    "mean_enrollment_poor2 = data[(data['poor'] =='pobre') & (data['year'] == 98) & (data['progresa'] == 'basal')].groupby('village')['sc'].mean()\n",
    "\n",
    "ax = plt.axes(frameon=True)\n",
    "plt.hist(mean_enrollment_poor, rwidth=1000, color=\"red\", bins='auto')\n",
    "plt.axvline(x = data[(data['poor'] =='pobre') & (data['year'] == 97) & (data['progresa'] == 'basal')]['sc'].mean(), color ='black')\n",
    "plt.title(\"Distribution of Average Enrollment Rates of Poor Households in Treated Villages in 1997\", fontsize='20')\n",
    "plt.xlabel('The rate of enrollment', fontsize='14')\n",
    "plt.ylabel('The number of village', fontsize='14')\n",
    "plt.show()\n",
    "\n",
    "ax = plt.axes(frameon=True)\n",
    "plt.hist(mean_enrollment_poor2, rwidth=1000, color=\"red\", bins='auto')\n",
    "plt.axvline(x = data[(data['poor'] =='pobre') & (data['year'] == 98) & (data['progresa'] == 'basal')]['sc'].mean(), color ='black')\n",
    "plt.title(\"Distribution of Average Enrollment Rates of Poor Households in Treated Villages in 1998\", fontsize='20')\n",
    "plt.xlabel('The rate of enrollment', fontsize='14')\n",
    "plt.ylabel('The number of village', fontsize='14')\n",
    "plt.show()\n",
    "\n",
    "stats.ttest_ind(mean_enrollment_poor, mean_enrollment_poor2)"
   ]
  },
  {
   "cell_type": "markdown",
   "metadata": {
    "ein.tags": "worksheet-0",
    "slideshow": {
     "slide_type": "-"
    }
   },
   "source": [
    "There appears to be a difference. For example, the mean of the average enrollment rates of poor households is higher in 1998 than in 1997. 1997 and 1998 both have increasing trend between 0.6 and 0.9, but there is a decrease between 0.725 and 0.775 in 1997. Also, the number of village decrease after 0.9 enrollment rate. Also, there appears to be statistically significant difference, because the p-value between two enrollment rates is less than 0.044."
   ]
  },
  {
   "cell_type": "markdown",
   "metadata": {
    "ein.tags": "worksheet-0",
    "slideshow": {
     "slide_type": "-"
    }
   },
   "source": [
    "## Part 2: Measuring Impact\n",
    "\n",
    "Our goal is to estimate the causal impact of the PROGRESA program on\n",
    "the social and economic outcomes of individuals in Mexico. We will\n",
    "focus on the impact of the program on the poor (those with\n",
    "poor=='pobre'), since only the poor were eligible to receive the\n",
    "PROGRESA assistance.\n",
    "\n",
    "### 2.1 Simple differences: T-test\n",
    "\n",
    "Begin by estimating the impact of Progresa using \"simple differences.\"\n",
    "Restricting yourself to data from 1998 (after treatment), calculate\n",
    "the average enrollment rate among **poor** households in the Treatment\n",
    "villages and the average enrollment rate among **poor** households in\n",
    "the control villages. Use a t-test to determine if this difference is\n",
    "statistically significant. What do you conclude?"
   ]
  },
  {
   "cell_type": "code",
   "execution_count": 6,
   "metadata": {
    "autoscroll": false,
    "ein.tags": "worksheet-0",
    "slideshow": {
     "slide_type": "-"
    }
   },
   "outputs": [
    {
     "name": "stdout",
     "output_type": "stream",
     "text": [
      "Ttest_indResult(statistic=2.5241266257746298, pvalue=0.011905294137542672)\n"
     ]
    }
   ],
   "source": [
    "# Your code here\n",
    "mean_enrollment_poor = data[(data['poor'] =='pobre') & (data['year'] == 98) & (data['progresa'] == 'basal')].groupby('village')['sc'].mean()\n",
    "mean_enrollment_poor2 = data[(data['poor'] =='pobre') & (data['year'] == 98) & (data['progresa'] != 'basal')].groupby('village')['sc'].mean()\n",
    "\n",
    "ttest = stats.ttest_ind(mean_enrollment_poor, mean_enrollment_poor2)\n",
    "print(ttest)"
   ]
  },
  {
   "cell_type": "markdown",
   "metadata": {
    "ein.tags": "worksheet-0",
    "slideshow": {
     "slide_type": "-"
    }
   },
   "source": [
    "P-value is less than 0.05. Low p-value rejects the null hypothesis that there is no difference between average enrollment rate among poor households in the treatment villages and the control village. There is statistically significant difference between two variables."
   ]
  },
  {
   "cell_type": "markdown",
   "metadata": {
    "ein.tags": "worksheet-0",
    "slideshow": {
     "slide_type": "-"
    }
   },
   "source": [
    "### 2.2 Simple differences: Regression\n",
    "\n",
    "Estimate the effects of Progresa on enrollment using a regression\n",
    "model, by regressing the 1998 enrollment rates **of the poor** on\n",
    "treatment assignment.  Do not include any additional control\n",
    "variables.\n",
    "Discuss the following:\n",
    "\n",
    "* Based on this model, how much did Progresa increase the likelihood of a child enrolling?\n",
    "* How does your regression estimate compare to your t-test estimate from part 2.1?\n",
    "* Based on this regression model, can we reject the null hypothesis that the treatment effects are zero? \n",
    "* What is the counterfactual assumption underlying this regression?\n",
    "\n",
    "Note: I recommend to use statsmodels.formula.api as this allows to use\n",
    "convenient R-style formulas and provedes nice summaries of the results."
   ]
  },
  {
   "cell_type": "code",
   "execution_count": 7,
   "metadata": {
    "autoscroll": false,
    "ein.tags": "worksheet-0",
    "slideshow": {
     "slide_type": "-"
    }
   },
   "outputs": [
    {
     "name": "stdout",
     "output_type": "stream",
     "text": [
      "                            OLS Regression Results                            \n",
      "==============================================================================\n",
      "Dep. Variable:                     sc   R-squared:                       0.003\n",
      "Model:                            OLS   Adj. R-squared:                  0.003\n",
      "Method:                 Least Squares   F-statistic:                     69.87\n",
      "Date:                Sun, 11 Feb 2018   Prob (F-statistic):           6.64e-17\n",
      "Time:                        15:40:57   Log-Likelihood:                -11926.\n",
      "No. Observations:               27450   AIC:                         2.386e+04\n",
      "Df Residuals:                   27448   BIC:                         2.387e+04\n",
      "Df Model:                           1                                         \n",
      "Covariance Type:            nonrobust                                         \n",
      "=====================================================================================\n",
      "                        coef    std err          t      P>|t|      [0.025      0.975]\n",
      "-------------------------------------------------------------------------------------\n",
      "Intercept             0.8076      0.004    220.676      0.000       0.800       0.815\n",
      "progresa[T.basal]     0.0388      0.005      8.359      0.000       0.030       0.048\n",
      "==============================================================================\n",
      "Omnibus:                     7638.939   Durbin-Watson:                   1.734\n",
      "Prob(Omnibus):                  0.000   Jarque-Bera (JB):            15767.534\n",
      "Skew:                          -1.767   Prob(JB):                         0.00\n",
      "Kurtosis:                       4.140   Cond. No.                         3.01\n",
      "==============================================================================\n",
      "\n",
      "Warnings:\n",
      "[1] Standard Errors assume that the covariance matrix of the errors is correctly specified.\n"
     ]
    }
   ],
   "source": [
    "# Your code here\n",
    "import statsmodels.formula.api as smf\n",
    "results = smf.ols('sc ~ progresa', data=data[(data['poor'] =='pobre') & (data['year'] == 98)]).fit()\n",
    "print(results.summary())\n"
   ]
  },
  {
   "cell_type": "markdown",
   "metadata": {
    "ein.tags": "worksheet-0",
    "slideshow": {
     "slide_type": "-"
    }
   },
   "source": [
    "Based on this model, Progresa increased the log likelihood of a child enrolling by -11926.\n",
    "\n",
    "My regression estimate has higher p-value compare to my t-test estimate where my regression estimate has 0 p-value, while my t-test estimate has 0.012 p-value. \n",
    "\n",
    "Based on this regression model, we can reject the null hypothesis that the treatment effects are zero. It is because p-value is less than 0.05. Thus, a significant difference does exist.\n",
    "\n",
    "The counterfactual assumption underlying this regression is that there treatment effects are zero."
   ]
  },
  {
   "cell_type": "markdown",
   "metadata": {
    "ein.tags": "worksheet-0",
    "slideshow": {
     "slide_type": "-"
    }
   },
   "source": [
    "### 2.3 Multiple Regression\n",
    "\n",
    "Re-run the above regression estimated but this time include a set of\n",
    "relevant control variables. Include, for instance, age, distance to a secondary\n",
    "school, gender, education of household head, welfare index,\n",
    "indigenous, etc.\n",
    "\n",
    "* How do the controls affect the point estimate of treatment effect?\n",
    "* How do the controls affect the standard error on the treatment effect? \n",
    "* How do you interpret the differences (or similarities) between your estimates of 2.2 and 2.3?"
   ]
  },
  {
   "cell_type": "code",
   "execution_count": 8,
   "metadata": {
    "autoscroll": false,
    "ein.tags": "worksheet-0",
    "slideshow": {
     "slide_type": "-"
    }
   },
   "outputs": [
    {
     "name": "stdout",
     "output_type": "stream",
     "text": [
      "                            OLS Regression Results                            \n",
      "==============================================================================\n",
      "Dep. Variable:                     sc   R-squared:                       0.267\n",
      "Model:                            OLS   Adj. R-squared:                  0.267\n",
      "Method:                 Least Squares   F-statistic:                     1419.\n",
      "Date:                Sun, 11 Feb 2018   Prob (F-statistic):               0.00\n",
      "Time:                        15:40:59   Log-Likelihood:                -7639.4\n",
      "No. Observations:               27267   AIC:                         1.529e+04\n",
      "Df Residuals:                   27259   BIC:                         1.536e+04\n",
      "Df Model:                           7                                         \n",
      "Covariance Type:            nonrobust                                         \n",
      "=====================================================================================\n",
      "                        coef    std err          t      P>|t|      [0.025      0.975]\n",
      "-------------------------------------------------------------------------------------\n",
      "Intercept             1.5025      0.014    105.342      0.000       1.475       1.530\n",
      "progresa[T.basal]     0.0352      0.004      8.799      0.000       0.027       0.043\n",
      "age                  -0.0655      0.001    -95.105      0.000      -0.067      -0.064\n",
      "dist_sec             -0.0117      0.001    -13.361      0.000      -0.013      -0.010\n",
      "sex                   0.0310      0.004      7.977      0.000       0.023       0.039\n",
      "hohedu                0.0085      0.001     10.951      0.000       0.007       0.010\n",
      "welfare_index      3.227e-05   1.72e-05      1.872      0.061   -1.52e-06    6.61e-05\n",
      "indig                 0.0468      0.004     11.283      0.000       0.039       0.055\n",
      "==============================================================================\n",
      "Omnibus:                     2993.090   Durbin-Watson:                   1.718\n",
      "Prob(Omnibus):                  0.000   Jarque-Bera (JB):             4083.947\n",
      "Skew:                          -0.940   Prob(JB):                         0.00\n",
      "Kurtosis:                       3.248   Cond. No.                     4.90e+03\n",
      "==============================================================================\n",
      "\n",
      "Warnings:\n",
      "[1] Standard Errors assume that the covariance matrix of the errors is correctly specified.\n",
      "[2] The condition number is large, 4.9e+03. This might indicate that there are\n",
      "strong multicollinearity or other numerical problems.\n"
     ]
    }
   ],
   "source": [
    "results = smf.ols('sc ~ progresa + age + dist_sec + sex + hohedu + welfare_index + indig', data=data[(data['poor'] =='pobre') & (data['year'] == 98)]).fit()\n",
    "print(results.summary())"
   ]
  },
  {
   "cell_type": "markdown",
   "metadata": {
    "ein.tags": "worksheet-0",
    "slideshow": {
     "slide_type": "-"
    }
   },
   "source": [
    "Age, distance to a secondary school, gender, education of household head, and indigenous have p-value less than 0.05. They reject the null hypothesis that there is no differences. Hence, they have statistically significant difference. On the other hand, welfare index has p-value greater than 0.05. It accept the null hypothesis that there is no difference. Hence, it has no statistically significant difference. \n",
    "\n",
    "The controls affected the standard error on the treatment by lowering the standard error. For example, treatment lowered the standard error of the progresa by 0.001. \n",
    "\n",
    "Coefficient and standard error is slight lower after the treatment than before the treatment. However, t-value is higher, while p-value stays as zero.\n"
   ]
  },
  {
   "cell_type": "markdown",
   "metadata": {
    "ein.tags": "worksheet-0",
    "slideshow": {
     "slide_type": "-"
    }
   },
   "source": [
    "### 2.4 Difference-in-Difference, version 1 (tabular)\n",
    "\n",
    "Thus far, we have computed the effects of Progresa by estimating the\n",
    "difference in 1998 enrollment rates across villages. An alternative\n",
    "approach would be to compute the treatment effect using a\n",
    "difference-in-differences framework.\n",
    "\n",
    "Begin by estimating the average treatment effects of the program for poor households using data from 1997 and 1998. Specifically, calculate:\n",
    "\n",
    "a) the difference (between 1997 and 1998) in enrollment rates among poor households in treated villages\n",
    "\n",
    "b) the difference (between 1997 and 1998) in enrollment rates among poor households in control villages.\n",
    "\n",
    "c) The difference between these two differences is your estimate.\n",
    "\n",
    "* What is your estimate of the impact, and how does it compare to your earlier (simple difference) results?\n",
    "\n",
    "* What is the counterfactual assumption underlying this estimate? \n"
   ]
  },
  {
   "cell_type": "code",
   "execution_count": 9,
   "metadata": {
    "autoscroll": false,
    "ein.tags": "worksheet-0",
    "slideshow": {
     "slide_type": "-"
    }
   },
   "outputs": [
    {
     "name": "stdout",
     "output_type": "stream",
     "text": [
      "The difference (between 1997 and 1998) in enrollment rates among poor households in treated villages.\n",
      "Difference:  0.023782233992\n",
      "Standard Error:  Intercept    0.381940\n",
      "year         0.003918\n",
      "dtype: float64\n",
      "\n",
      "the difference (between 1997 and 1998) in enrollment rates among poor households in control villages.\n",
      "Difference -0.00754904632728\n",
      "Standard Error:  Intercept    0.512552\n",
      "year         0.005259\n",
      "dtype: float64\n",
      "\n",
      "The difference between these two differences is your estimate.\n",
      "0.0313312803193\n"
     ]
    }
   ],
   "source": [
    "# Your code here\n",
    "print(\"The difference (between 1997 and 1998) in enrollment rates among poor households in treated villages.\")\n",
    "results = smf.ols('sc ~ year', data=data[(data['poor'] =='pobre') & (data['progresa'] == 'basal')]).fit()\n",
    "print(\"Difference: \", results.params[1])\n",
    "print(\"Standard Error: \", results.bse)\n",
    "print()\n",
    "print(\"the difference (between 1997 and 1998) in enrollment rates among poor households in control villages.\")\n",
    "results2 = smf.ols('sc ~ year', data=data[(data['poor'] =='pobre') & (data['progresa'] != 'basal')]).fit()\n",
    "print(\"Difference\", results2.params[1])\n",
    "print(\"Standard Error: \", results2.bse)\n",
    "print()\n",
    "print(\"The difference between these two differences is your estimate.\")\n",
    "print(results.params[1] - results2.params[1])"
   ]
  },
  {
   "cell_type": "markdown",
   "metadata": {
    "ein.tags": "worksheet-0",
    "slideshow": {
     "slide_type": "-"
    }
   },
   "source": [
    "a) the difference (between 1997 and 1998) in enrollment rates among poor households in treated villages\n",
    "\n",
    "0.023782233992\n",
    "\n",
    "b) the difference (between 1997 and 1998) in enrollment rates among poor households in control villages.\n",
    "\n",
    "-0.00754904632728\n",
    "\n",
    "c) The difference between these two differences is your estimate.\n",
    "\n",
    "    - 0.0313312803193. It is Lower than the simple difference results.\n",
    "\n",
    "    - The counterfactual is the underlying assumption is that there is no statistical difference between two differences."
   ]
  },
  {
   "cell_type": "markdown",
   "metadata": {
    "ein.tags": "worksheet-0",
    "slideshow": {
     "slide_type": "-"
    }
   },
   "source": [
    "### 2.5 Difference-in-Difference, version 2 (regression)\n",
    "\n",
    "Now use a regression specification to estimate the average treatment\n",
    "effects of the program in a difference-in-differences\n",
    "framework. Include at least 5 control variables.\n",
    "\n",
    "* What is your estimate of the impact of Progresa? Be very specific in\n",
    "  interpreting your coefficients and standard errors, and make sure to\n",
    "  specify exactly what units you are measuring and estimating.\n",
    "\n",
    "* How do these estimates of the treatment effect compare to the\n",
    "  estimates based on the simple difference?\n",
    "\n",
    "* How do these estimates compare to the difference-in-difference\n",
    "  estimates from 2.4 above? What accounts for these differences?\n",
    "\n",
    "* What is the counterfactual assumption underlying this regression? "
   ]
  },
  {
   "cell_type": "code",
   "execution_count": 11,
   "metadata": {
    "autoscroll": false,
    "ein.tags": "worksheet-0",
    "slideshow": {
     "slide_type": "-"
    }
   },
   "outputs": [
    {
     "name": "stdout",
     "output_type": "stream",
     "text": [
      "Difference\n",
      "0.00449721453978\n",
      "Coefficients\n",
      "Intercept            1.467903\n",
      "progresa[T.basal]    0.004497\n",
      "age                 -0.065601\n",
      "dist_sec            -0.009780\n",
      "sex                  0.036359\n",
      "hohedu               0.006488\n",
      "welfare_index        0.000038\n",
      "indig                0.052694\n",
      "dtype: float64\n",
      "Standard Errors\n",
      "Intercept            0.013148\n",
      "progresa[T.basal]    0.003814\n",
      "age                  0.000611\n",
      "dist_sec             0.000873\n",
      "sex                  0.003703\n",
      "hohedu               0.000746\n",
      "welfare_index        0.000016\n",
      "indig                0.003977\n",
      "dtype: float64\n",
      "\n",
      "Difference\n",
      "0.0352318985757\n",
      "Coefficients\n",
      "Intercept            1.535891\n",
      "progresa[T.basal]    0.035232\n",
      "age                 -0.065422\n",
      "dist_sec            -0.011238\n",
      "sex                  0.031103\n",
      "hohedu               0.008731\n",
      "dtype: float64\n",
      "Standard Errors\n",
      "Intercept            0.009337\n",
      "progresa[T.basal]    0.003992\n",
      "age                  0.000684\n",
      "dist_sec             0.000870\n",
      "sex                  0.003877\n",
      "hohedu               0.000776\n",
      "dtype: float64\n",
      "\n",
      "Difference\n",
      "0.0352030194366\n",
      "Coefficients\n",
      "Intercept            1.502541\n",
      "progresa[T.basal]    0.035203\n",
      "age                 -0.065504\n",
      "dist_sec            -0.011717\n",
      "sex                  0.030967\n",
      "hohedu               0.008541\n",
      "welfare_index        0.000032\n",
      "indig                0.046839\n",
      "dtype: float64\n",
      "Standard Errors\n",
      "Intercept            0.014263\n",
      "progresa[T.basal]    0.004001\n",
      "age                  0.000689\n",
      "dist_sec             0.000877\n",
      "sex                  0.003882\n",
      "hohedu               0.000780\n",
      "welfare_index        0.000017\n",
      "indig                0.004151\n",
      "dtype: float64\n",
      "\n",
      "Difference\n",
      "0.00383515555755\n",
      "Coefficients\n",
      "Intercept            1.505491\n",
      "progresa[T.basal]    0.003835\n",
      "age                 -0.065295\n",
      "dist_sec            -0.009444\n",
      "sex                  0.036303\n",
      "hohedu               0.006787\n",
      "dtype: float64\n",
      "Standard Errors\n",
      "Intercept            0.008226\n",
      "progresa[T.basal]    0.003811\n",
      "age                  0.000606\n",
      "dist_sec             0.000869\n",
      "sex                  0.003703\n",
      "hohedu               0.000743\n",
      "dtype: float64\n",
      "\n",
      "0.0307346840359 0.0313678638791\n"
     ]
    }
   ],
   "source": [
    "# Your code here\n",
    "result = smf.ols('sc ~ progresa + age + dist_sec + sex + hohedu + welfare_index + indig', data = data[(data['poor'] =='pobre') & (data['year'] == 97)]).fit()\n",
    "print(\"Difference\")\n",
    "print(result.params[1])\n",
    "print(\"Coefficients\")\n",
    "print(result.params)\n",
    "print(\"Standard Errors\")\n",
    "print(result.bse)\n",
    "print()\n",
    "\n",
    "result2 = smf.ols('sc ~ progresa + age + dist_sec + sex + hohedu', data = data[(data['poor'] =='pobre') & (data['year'] == 98)]).fit()\n",
    "print(\"Difference\")\n",
    "print(result2.params[1])\n",
    "print(\"Coefficients\")\n",
    "print(result2.params)\n",
    "print(\"Standard Errors\")\n",
    "print(result2.bse)\n",
    "print()\n",
    "\n",
    "result3 = smf.ols('sc ~ progresa + age + dist_sec + sex + hohedu + welfare_index + indig', data = data[(data['poor'] =='pobre') &(data['year'] == 98)]).fit()\n",
    "print(\"Difference\")\n",
    "print(result3.params[1])\n",
    "print(\"Coefficients\")\n",
    "print(result3.params)\n",
    "print(\"Standard Errors\")\n",
    "print(result3.bse)\n",
    "print()\n",
    "\n",
    "result4 = smf.ols('sc ~ progresa + age + dist_sec + sex + hohedu', data = data[(data['poor'] =='pobre') &(data['year'] == 97)]).fit()\n",
    "print(\"Difference\")\n",
    "print(result4.params[1])\n",
    "print(\"Coefficients\")\n",
    "print(result4.params)\n",
    "print(\"Standard Errors\")\n",
    "print(result4.bse)\n",
    "print()\n",
    "\n",
    "print(result2.params[1] - result.params[1], result3.params[1] - result4.params[1])\n"
   ]
  },
  {
   "cell_type": "markdown",
   "metadata": {
    "ein.tags": "worksheet-0",
    "slideshow": {
     "slide_type": "-"
    }
   },
   "source": [
    "The difference-difference of the Progresa treatment in 1997 and 1998 with two different test is 0.0307346840359, while the difference-difference of the Progresa treatment in 1997 and 1998 with other two different variables is 0.0313678638791.\n",
    "\n",
    "The coefficient and the difference value of the estimates of the treatment effect is lower than the estimates based on the simple difference.\n",
    "\n",
    "The difference-in-difference for 2.5 was lower than the difference-in-difference for 2.4. More control variables in the difference-in-difference for 2.5 makes lower value.\n",
    "\n",
    "The counterfactual assumption underlying this regression is the null hypothesis that there is no impact of the progresa on poor people's education.\n"
   ]
  },
  {
   "cell_type": "markdown",
   "metadata": {
    "ein.tags": "worksheet-0",
    "slideshow": {
     "slide_type": "-"
    }
   },
   "source": [
    "### 2.6 Summary\n",
    "\n",
    "* Based on all the analysis you have undertaken to date, do you\n",
    "  believe that Progresa had a causal impact on the enrollment rates of\n",
    "  poor households in Mexico?  Explain by referring to the methods and\n",
    "  results above."
   ]
  },
  {
   "cell_type": "markdown",
   "metadata": {
    "ein.tags": "worksheet-0",
    "slideshow": {
     "slide_type": "-"
    }
   },
   "source": [
    "The Progresa had a causal impact on the enrollment rates of poor households in Mexico, because of low-value oberserved in simple-difference and low difference between differences in difference-in-difference. In all cases, we rejected the null hypothesis that there is no difference. Thus, the progressa had significant statistical difference."
   ]
  }
 ],
 "metadata": {
  "kernelspec": {
   "display_name": "Python 3",
   "language": "python",
   "name": "python3"
  },
  "language_info": {
   "codemirror_mode": {
    "name": "ipython",
    "version": 3
   },
   "file_extension": ".py",
   "mimetype": "text/x-python",
   "name": "python",
   "nbconvert_exporter": "python",
   "pygments_lexer": "ipython3",
   "version": "3.6.3"
  },
  "name": "ps03_progresa.ipynb"
 },
 "nbformat": 4,
 "nbformat_minor": 1
}
