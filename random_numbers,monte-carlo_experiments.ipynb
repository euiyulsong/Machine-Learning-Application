{
 "cells": [
  {
   "cell_type": "markdown",
   "metadata": {
    "ein.tags": "worksheet-0",
    "slideshow": {
     "slide_type": "-"
    }
   },
   "source": [
    "# Lab 04: Linear Regression and Causality\n",
    "cross-sectional estimator\n",
    "\n",
    "This lab asks you to do two tasks:\n",
    "\n",
    "First, to estimate the effect of Right Hearth\n",
    "Catheterization (RHC)--inserting a tiny hollow tube along the arterial into\n",
    "the right side of your hearth.  It is often done for diagnostical\n",
    "purposes (it allows to get different measures right in the hearth) and\n",
    "it's usually considered safe.\n",
    "\n",
    "Wou will use a dataset about RHC for critically ill patients and see\n",
    "if RHC is related to increased death rate.  The dataset is downloaded\n",
    "from [Vanderbilt\n",
    "Biostats](http://biostat.mc.vanderbilt.edu/wiki/Main/DataSets) and\n",
    "more information is available at\n",
    "[http://biostat.mc.vanderbilt.edu/wiki/pub/Main/DataSets/rhc.html](http://biostat.mc.vanderbilt.edu/wiki/pub/Main/DataSets/rhc.html).\n",
    "\n",
    "Second, you have to create (or re-create) the design matrices of the\n",
    "first problem, analyze their properties, and compute the regression\n",
    "coefficients of the first part \"manually\", i.e. by a simple matrix\n",
    "expression on computer.\n",
    "\n",
    "You can use both R and python."
   ]
  },
  {
   "cell_type": "code",
   "execution_count": 12,
   "metadata": {},
   "outputs": [
    {
     "name": "stdout",
     "output_type": "stream",
     "text": [
      "numpy: 1.12.1\n",
      "pandas: 0.20.1\n"
     ]
    }
   ],
   "source": [
    "## import the necessary tools, and check their corresponding versions\n",
    "import numpy as np\n",
    "print(\"numpy:\", np.__version__)\n",
    "import pandas as pd\n",
    "print(\"pandas:\", pd.__version__)\n",
    "import matplotlib.pyplot as plt\n",
    "import codecs\n",
    "import scipy\n",
    "\n",
    "import matplotlib.pyplot as plt\n",
    "from scipy import stats\n",
    "%matplotlib inline"
   ]
  },
  {
   "cell_type": "markdown",
   "metadata": {
    "ein.tags": "worksheet-0",
    "slideshow": {
     "slide_type": "-"
    }
   },
   "source": [
    "## 1 Get Ready\n",
    "\n",
    "Load the data.  A tab-separated version is available on canvas (files/data).\n",
    "\n",
    "1. How many observation and variables do we have?\n",
    "\n",
    "Observation: 5735\n",
    "Variables: 62\n",
    "\n",
    "2. The most important variables we use below are _death_ (patient\n",
    "death recorded/not recorded) and\n",
    "_swang1_ (rhc performed/not performed).  How are these variables coded?\n",
    "\n",
    "They are coded in string"
   ]
  },
  {
   "cell_type": "code",
   "execution_count": 13,
   "metadata": {},
   "outputs": [
    {
     "name": "stdout",
     "output_type": "stream",
     "text": [
      "1. How many observation and variables do we have?\n",
      "                   cat1               cat2          ca  sadmdte  dschdte  \\\n",
      "0                  COPD                NaN         Yes    11142  11151.0   \n",
      "1         MOSF w/Sepsis                NaN          No    11799  11844.0   \n",
      "2     MOSF w/Malignancy      MOSF w/Sepsis         Yes    12083  12143.0   \n",
      "3                   ARF                NaN          No    11146  11183.0   \n",
      "4         MOSF w/Sepsis                NaN          No    12035  12037.0   \n",
      "5                  COPD                NaN          No    12389  12396.0   \n",
      "6     MOSF w/Malignancy                NaN  Metastatic    12381  12423.0   \n",
      "7                   ARF               Coma          No    11453  11487.0   \n",
      "8     MOSF w/Malignancy                NaN         Yes    12426  12437.0   \n",
      "9                   ARF                NaN         Yes    11381  11400.0   \n",
      "10                  ARF                NaN          No    11705  11724.0   \n",
      "11                  ARF                NaN          No    12174  12187.0   \n",
      "12        MOSF w/Sepsis                NaN          No    12149  12191.0   \n",
      "13        MOSF w/Sepsis                NaN          No    11483  11491.0   \n",
      "14                  ARF                NaN          No    11865  11905.0   \n",
      "15    MOSF w/Malignancy                NaN  Metastatic    12335  12404.0   \n",
      "16                  ARF                NaN          No    11751  11767.0   \n",
      "17        MOSF w/Sepsis                NaN          No    11198  11217.0   \n",
      "18        MOSF w/Sepsis                NaN          No    11030  11035.0   \n",
      "19                  ARF      MOSF w/Sepsis          No    12362  12410.0   \n",
      "20        MOSF w/Sepsis                NaN          No    10811  10836.0   \n",
      "21                  ARF                NaN  Metastatic    11119  11134.0   \n",
      "22                  CHF                NaN          No    10913  10921.0   \n",
      "23                 Coma                NaN          No    12281  12323.0   \n",
      "24                  CHF                NaN          No    11118  11128.0   \n",
      "25                  ARF                NaN          No    11259  11267.0   \n",
      "26                 Coma                NaN          No    11758  11764.0   \n",
      "27                 Coma  MOSF w/Malignancy         Yes    12302  12307.0   \n",
      "28                 Coma                NaN          No    12035  12050.0   \n",
      "29                  ARF      MOSF w/Sepsis          No    12372  12375.0   \n",
      "...                 ...                ...         ...      ...      ...   \n",
      "5705          Cirrhosis                NaN          No    11819  11834.0   \n",
      "5706          Cirrhosis                NaN          No    12097  12117.0   \n",
      "5707                ARF          Cirrhosis          No    12344  12358.0   \n",
      "5708  MOSF w/Malignancy      MOSF w/Sepsis  Metastatic    11167  11172.0   \n",
      "5709                ARF               Coma          No    11335  11344.0   \n",
      "5710      MOSF w/Sepsis                NaN          No    12322  12333.0   \n",
      "5711                ARF                NaN          No    12085  12145.0   \n",
      "5712                ARF                NaN          No    10964  10969.0   \n",
      "5713                ARF                NaN          No    11910  12011.0   \n",
      "5714      MOSF w/Sepsis                NaN          No    11959  11963.0   \n",
      "5715               COPD                NaN          No    11459  11469.0   \n",
      "5716                CHF                NaN          No    12300  12305.0   \n",
      "5717  MOSF w/Malignancy                NaN         Yes    10987  10990.0   \n",
      "5718                CHF                NaN          No    12295  12304.0   \n",
      "5719      MOSF w/Sepsis                NaN          No    11361  11401.0   \n",
      "5720                ARF        Lung Cancer  Metastatic    10860  10862.0   \n",
      "5721                ARF                NaN          No    11336  11435.0   \n",
      "5722      MOSF w/Sepsis                NaN          No    10772  10792.0   \n",
      "5723                ARF      MOSF w/Sepsis          No    10871  10891.0   \n",
      "5724                ARF                NaN         Yes    11722  11768.0   \n",
      "5725      MOSF w/Sepsis                NaN          No    11761  11831.0   \n",
      "5726                CHF                NaN          No    11722  11731.0   \n",
      "5727      MOSF w/Sepsis                NaN          No    11168  11182.0   \n",
      "5728                CHF                NaN          No    11763  11775.0   \n",
      "5729               Coma                NaN          No    12219  12267.0   \n",
      "5730      MOSF w/Sepsis                NaN          No    11867  11900.0   \n",
      "5731                ARF                NaN          No    12199  12241.0   \n",
      "5732                ARF                NaN          No    12087  12093.0   \n",
      "5733               COPD                NaN          No    11286  11309.0   \n",
      "5734                ARF      MOSF w/Sepsis          No    10928  10935.0   \n",
      "\n",
      "       dthdte  lstctdte death  cardiohx  chfhx  ...    meta  hema  seps  \\\n",
      "0         NaN     11382    No         0      0  ...      No    No    No   \n",
      "1     11844.0     11844   Yes         1      1  ...      No    No   Yes   \n",
      "2         NaN     12400    No         0      0  ...      No    No    No   \n",
      "3     11183.0     11182   Yes         0      0  ...      No    No    No   \n",
      "4     12037.0     12036   Yes         0      0  ...      No    No    No   \n",
      "5         NaN     12590    No         0      1  ...      No    No    No   \n",
      "6         NaN     12616    No         0      0  ...      No    No    No   \n",
      "7     11491.0     11490   Yes         0      0  ...      No    No   Yes   \n",
      "8         NaN     12560    No         0      0  ...      No   Yes    No   \n",
      "9         NaN     11590    No         0      0  ...      No    No    No   \n",
      "10        NaN     11894    No         0      0  ...      No    No    No   \n",
      "11        NaN     12414    No         0      0  ...      No    No    No   \n",
      "12    12191.0     12190   Yes         1      0  ...      No    No    No   \n",
      "13    11496.0     11496   Yes         0      0  ...      No    No    No   \n",
      "14        NaN     12048    No         0      0  ...      No    No    No   \n",
      "15    12404.0     12404   Yes         0      0  ...      No    No    No   \n",
      "16    12680.0     12292   Yes         0      0  ...      No    No    No   \n",
      "17    11217.0     11216   Yes         0      0  ...      No    No   Yes   \n",
      "18        NaN     11232    No         0      0  ...     Yes    No   Yes   \n",
      "19        NaN     12578    No         0      1  ...      No    No    No   \n",
      "20        NaN     11014    No         0      0  ...      No    No   Yes   \n",
      "21    11134.0     11134   Yes         0      0  ...      No    No    No   \n",
      "22    11061.0     11056   Yes         0      1  ...      No    No    No   \n",
      "23        NaN     12492    No         0      0  ...      No    No    No   \n",
      "24    11781.0     11780   Yes         1      1  ...      No    No    No   \n",
      "25        NaN     11462    No         0      0  ...      No    No    No   \n",
      "26    11764.0     11764   Yes         0      0  ...      No    No    No   \n",
      "27    12307.0     12306   Yes         0      0  ...      No   Yes    No   \n",
      "28    12050.0     12050   Yes         0      1  ...      No    No    No   \n",
      "29    12375.0     12374   Yes         0      0  ...      No    No   Yes   \n",
      "...       ...       ...   ...       ...    ...  ...     ...   ...   ...   \n",
      "5705  11834.0     11834   Yes         0      0  ...      No    No    No   \n",
      "5706  12142.0     12142   Yes         0      0  ...      No    No    No   \n",
      "5707  12358.0     12358   Yes         0      0  ...      No    No    No   \n",
      "5708  11172.0     11172   Yes         0      0  ...      No    No    No   \n",
      "5709  11344.0     11344   Yes         0      0  ...      No    No    No   \n",
      "5710  12333.0     12332   Yes         0      1  ...      No    No    No   \n",
      "5711      NaN     12312    No         0      0  ...      No    No    No   \n",
      "5712      NaN     11150    No         0      0  ...      No    No    No   \n",
      "5713  12374.0     12114   Yes         0      0  ...      No    No    No   \n",
      "5714  11963.0     11962   Yes         0      0  ...      No    No    No   \n",
      "5715      NaN     11662    No         0      0  ...      No    No    No   \n",
      "5716  12418.0     12418   Yes         0      0  ...      No    No    No   \n",
      "5717  11721.0     11720   Yes         0      1  ...     Yes    No    No   \n",
      "5718      NaN     12484    No         1      1  ...      No    No    No   \n",
      "5719  11401.0     11400   Yes         0      0  ...      No    No    No   \n",
      "5720  10862.0     10862   Yes         1      1  ...      No    No    No   \n",
      "5721  11435.0     11434   Yes         1      0  ...      No    No    No   \n",
      "5722  10792.0     10792   Yes         0      0  ...      No    No   Yes   \n",
      "5723  10891.0     10890   Yes         0      0  ...      No    No    No   \n",
      "5724  11768.0     11768   Yes         1      0  ...      No    No    No   \n",
      "5725      NaN     11970    No         0      0  ...      No    No   Yes   \n",
      "5726  12537.0     12536   Yes         1      1  ...      No    No    No   \n",
      "5727  11182.0     11182   Yes         0      0  ...      No    No    No   \n",
      "5728  11775.0     11774   Yes         1      1  ...      No    No    No   \n",
      "5729      NaN     12428    No         0      0  ...      No    No    No   \n",
      "5730      NaN     12074    No         1      0  ...      No    No   Yes   \n",
      "5731  12629.0     12628   Yes         0      0  ...      No    No    No   \n",
      "5732  12396.0     12320   Yes         1      0  ...      No    No    No   \n",
      "5733  11309.0     11308   Yes         0      1  ...      No    No    No   \n",
      "5734  10935.0     10934   Yes         0      0  ...      No    No    No   \n",
      "\n",
      "      trauma  ortho  adld3p   urin1   race      income   ptid  \n",
      "0         No     No     0.0     NaN  white  Under $11k      5  \n",
      "1         No     No     NaN  1437.0  white  Under $11k      7  \n",
      "2         No     No     NaN   599.0  white    $25-$50k      9  \n",
      "3         No     No     NaN     NaN  white    $11-$25k     10  \n",
      "4         No     No     NaN    64.0  white  Under $11k     11  \n",
      "5         No     No     0.0   242.0  white  Under $11k     12  \n",
      "6         No     No     NaN  4465.0  white    $25-$50k     13  \n",
      "7         No     No     NaN     NaN  white    $25-$50k     14  \n",
      "8         No     No     NaN  5525.0  white  Under $11k     16  \n",
      "9         No     No     NaN     NaN  white  Under $11k     17  \n",
      "10       Yes     No     NaN  2870.0  white    $25-$50k     19  \n",
      "11        No     No     NaN  1701.0  white    $11-$25k     21  \n",
      "12        No     No     NaN  1190.0  white    $25-$50k     22  \n",
      "13        No     No     0.0     NaN  white    $25-$50k     24  \n",
      "14        No     No     NaN  1490.0  white  Under $11k     25  \n",
      "15        No     No     NaN  2025.0  black  Under $11k     28  \n",
      "16        No     No     NaN  1990.0  white  Under $11k     29  \n",
      "17        No     No     NaN     NaN  white  Under $11k     30  \n",
      "18        No     No     2.0     NaN  black    $11-$25k     31  \n",
      "19        No     No     NaN   395.0  white  Under $11k     32  \n",
      "20        No     No     NaN     NaN  white      > $50k     33  \n",
      "21        No     No     NaN     NaN  white    $25-$50k     35  \n",
      "22        No     No     0.0     NaN  other    $11-$25k     39  \n",
      "23       Yes     No     NaN  2277.0  black  Under $11k     40  \n",
      "24        No     No     2.0     NaN  white  Under $11k     41  \n",
      "25        No     No     0.0     NaN  black  Under $11k     42  \n",
      "26        No     No     NaN     NaN  black  Under $11k     43  \n",
      "27        No     No     NaN  1050.0  white    $11-$25k     44  \n",
      "28        No     No     NaN     NaN  white  Under $11k     45  \n",
      "29        No     No     NaN  2360.0  white  Under $11k     46  \n",
      "...      ...    ...     ...     ...    ...         ...    ...  \n",
      "5705      No     No     NaN   415.0  other  Under $11k  10233  \n",
      "5706      No     No     1.0  2660.0  white    $11-$25k  10234  \n",
      "5707      No     No     NaN     NaN  white    $11-$25k  10235  \n",
      "5708      No     No     NaN     NaN  white    $11-$25k  10239  \n",
      "5709      No     No     NaN     NaN  black      > $50k  10240  \n",
      "5710      No     No     NaN   125.0  black  Under $11k  10242  \n",
      "5711      No     No     NaN  1165.0  white    $11-$25k  10244  \n",
      "5712      No     No     NaN     NaN  black  Under $11k  10245  \n",
      "5713      No     No     NaN  2875.0  white    $11-$25k  10246  \n",
      "5714      No     No     NaN   300.0  white    $11-$25k  10247  \n",
      "5715      No     No     NaN     NaN  white  Under $11k  10249  \n",
      "5716      No     No     NaN  3650.0  white  Under $11k  10251  \n",
      "5717      No     No     0.0     NaN  white  Under $11k  10252  \n",
      "5718      No     No     1.0  3650.0  white    $11-$25k  10253  \n",
      "5719      No     No     NaN     NaN  black  Under $11k  10257  \n",
      "5720      No     No     NaN     NaN  white    $25-$50k  10258  \n",
      "5721      No     No     NaN     NaN  white  Under $11k  10259  \n",
      "5722      No     No     NaN     NaN  white  Under $11k  10260  \n",
      "5723      No     No     NaN     NaN  white      > $50k  10261  \n",
      "5724      No     No     NaN  1023.0  white  Under $11k  10262  \n",
      "5725      No     No     NaN   915.0  white    $11-$25k  10264  \n",
      "5726      No     No     5.0  1850.0  white  Under $11k  10265  \n",
      "5727      No     No     NaN     NaN  white  Under $11k  10267  \n",
      "5728      No     No     0.0  2995.0  white      > $50k  10268  \n",
      "5729      No     No     NaN  1900.0  black  Under $11k  10269  \n",
      "5730      No     No     NaN  1285.0  white  Under $11k  10270  \n",
      "5731      No     No     0.0  1010.0  white  Under $11k  10272  \n",
      "5732      No     No     1.0  4638.0  white  Under $11k  10273  \n",
      "5733      No     No     NaN     NaN  white    $11-$25k  10277  \n",
      "5734      No     No     NaN     NaN  white    $25-$50k  10278  \n",
      "\n",
      "[5735 rows x 62 columns]\n",
      "Variables:  62\n",
      "Observation:  5735\n"
     ]
    }
   ],
   "source": [
    "print(\"1. How many observation and variables do we have?\")\n",
    "df1 = pd.read_csv('hearth_catheterization.csv', sep = \"\\t\")\n",
    "print(df1)\n",
    "print(\"Variables: \", len(df1.columns))\n",
    "print(\"Observation: \", len(df1.index))"
   ]
  },
  {
   "cell_type": "code",
   "execution_count": 14,
   "metadata": {},
   "outputs": [
    {
     "name": "stdout",
     "output_type": "stream",
     "text": [
      "2. The most important variables we use below are death (patient death recorded/not recorded) and swang1 (rhc performed/not performed). How are these variables coded?\n",
      "Swang1 Variable\n",
      "0       No RHC\n",
      "1          RHC\n",
      "2          RHC\n",
      "3       No RHC\n",
      "4          RHC\n",
      "5       No RHC\n",
      "6       No RHC\n",
      "7       No RHC\n",
      "8       No RHC\n",
      "9          RHC\n",
      "10      No RHC\n",
      "11         RHC\n",
      "12         RHC\n",
      "13      No RHC\n",
      "14      No RHC\n",
      "15      No RHC\n",
      "16         RHC\n",
      "17         RHC\n",
      "18      No RHC\n",
      "19      No RHC\n",
      "20         RHC\n",
      "21         RHC\n",
      "22         RHC\n",
      "23      No RHC\n",
      "24      No RHC\n",
      "25         RHC\n",
      "26      No RHC\n",
      "27      No RHC\n",
      "28      No RHC\n",
      "29      No RHC\n",
      "         ...  \n",
      "5705    No RHC\n",
      "5706    No RHC\n",
      "5707    No RHC\n",
      "5708    No RHC\n",
      "5709       RHC\n",
      "5710       RHC\n",
      "5711       RHC\n",
      "5712    No RHC\n",
      "5713       RHC\n",
      "5714       RHC\n",
      "5715    No RHC\n",
      "5716    No RHC\n",
      "5717    No RHC\n",
      "5718    No RHC\n",
      "5719       RHC\n",
      "5720    No RHC\n",
      "5721       RHC\n",
      "5722       RHC\n",
      "5723    No RHC\n",
      "5724    No RHC\n",
      "5725       RHC\n",
      "5726    No RHC\n",
      "5727    No RHC\n",
      "5728       RHC\n",
      "5729    No RHC\n",
      "5730    No RHC\n",
      "5731    No RHC\n",
      "5732    No RHC\n",
      "5733    No RHC\n",
      "5734    No RHC\n",
      "Name: swang1, Length: 5735, dtype: object\n",
      "Death Variable\n",
      "0        No\n",
      "1       Yes\n",
      "2        No\n",
      "3       Yes\n",
      "4       Yes\n",
      "5        No\n",
      "6        No\n",
      "7       Yes\n",
      "8        No\n",
      "9        No\n",
      "10       No\n",
      "11       No\n",
      "12      Yes\n",
      "13      Yes\n",
      "14       No\n",
      "15      Yes\n",
      "16      Yes\n",
      "17      Yes\n",
      "18       No\n",
      "19       No\n",
      "20       No\n",
      "21      Yes\n",
      "22      Yes\n",
      "23       No\n",
      "24      Yes\n",
      "25       No\n",
      "26      Yes\n",
      "27      Yes\n",
      "28      Yes\n",
      "29      Yes\n",
      "       ... \n",
      "5705    Yes\n",
      "5706    Yes\n",
      "5707    Yes\n",
      "5708    Yes\n",
      "5709    Yes\n",
      "5710    Yes\n",
      "5711     No\n",
      "5712     No\n",
      "5713    Yes\n",
      "5714    Yes\n",
      "5715     No\n",
      "5716    Yes\n",
      "5717    Yes\n",
      "5718     No\n",
      "5719    Yes\n",
      "5720    Yes\n",
      "5721    Yes\n",
      "5722    Yes\n",
      "5723    Yes\n",
      "5724    Yes\n",
      "5725     No\n",
      "5726    Yes\n",
      "5727    Yes\n",
      "5728    Yes\n",
      "5729     No\n",
      "5730     No\n",
      "5731    Yes\n",
      "5732    Yes\n",
      "5733    Yes\n",
      "5734    Yes\n",
      "Name: death, Length: 5735, dtype: object\n",
      "They are coded in string\n"
     ]
    }
   ],
   "source": [
    "print(\"2. The most important variables we use below are death (patient death recorded/not recorded) and swang1 (rhc performed/not performed). How are these variables coded?\")\n",
    "print(\"Swang1 Variable\")\n",
    "print(df1['swang1'])\n",
    "print(\"Death Variable\")\n",
    "print(df1['death'])\n",
    "print(\"They are coded in string\")\n"
   ]
  },
  {
   "cell_type": "markdown",
   "metadata": {
    "ein.tags": "worksheet-0",
    "slideshow": {
     "slide_type": "-"
    }
   },
   "source": [
    "## 2 Cross-Sectional Estimator\n",
    "\n",
    "Estimate, using linear regression, how is the RHC related to mortality.\n",
    "\n",
    "We start easy: let's just find the relationship between recorded death\n",
    "and rhc.  The important variables are\n",
    "\n",
    "* _death_: patient death recorded/not recorded\n",
    "* _swang1_: rhc performed/not performed\n",
    "\n",
    "This is called \"cross-sectional estimator\", we just compare\n",
    "cross-section of individuals who received and did not receive RHC.\n",
    "\n",
    "Obviously, this is a very crude measure because the hospitals track\n",
    "patients over different time periods, and if contact is lost early,\n",
    "the death may not be recorded.  Another obvious problem is that the\n",
    "patients have very different medical conditions, a factor that\n",
    "most likely plays a role in the decision whether to perform RHC.\n"
   ]
  },
  {
   "cell_type": "markdown",
   "metadata": {
    "ein.tags": "worksheet-0",
    "slideshow": {
     "slide_type": "-"
    }
   },
   "source": [
    "Comment your results.\n",
    "\n",
    "RHC seems to be associated with 5% larger probability of death.  The\n",
    "association is highly significant (t=3.9)"
   ]
  },
  {
   "cell_type": "code",
   "execution_count": 28,
   "metadata": {},
   "outputs": [
    {
     "name": "stdout",
     "output_type": "stream",
     "text": [
      "                cat1           cat2          ca  sadmdte  dschdte   dthdte  \\\n",
      "0               COPD            NaN         Yes    11142  11151.0      NaN   \n",
      "1      MOSF w/Sepsis            NaN          No    11799  11844.0  11844.0   \n",
      "2  MOSF w/Malignancy  MOSF w/Sepsis         Yes    12083  12143.0      NaN   \n",
      "3                ARF            NaN          No    11146  11183.0  11183.0   \n",
      "4      MOSF w/Sepsis            NaN          No    12035  12037.0  12037.0   \n",
      "5               COPD            NaN          No    12389  12396.0      NaN   \n",
      "6  MOSF w/Malignancy            NaN  Metastatic    12381  12423.0      NaN   \n",
      "7                ARF           Coma          No    11453  11487.0  11491.0   \n",
      "8  MOSF w/Malignancy            NaN         Yes    12426  12437.0      NaN   \n",
      "9                ARF            NaN         Yes    11381  11400.0      NaN   \n",
      "\n",
      "   lstctdte death  cardiohx  chfhx  ...   meta  hema  seps  trauma  ortho  \\\n",
      "0     11382     0         0      0  ...     No    No    No      No     No   \n",
      "1     11844     1         1      1  ...     No    No   Yes      No     No   \n",
      "2     12400     0         0      0  ...     No    No    No      No     No   \n",
      "3     11182     1         0      0  ...     No    No    No      No     No   \n",
      "4     12036     1         0      0  ...     No    No    No      No     No   \n",
      "5     12590     0         0      1  ...     No    No    No      No     No   \n",
      "6     12616     0         0      0  ...     No    No    No      No     No   \n",
      "7     11490     1         0      0  ...     No    No   Yes      No     No   \n",
      "8     12560     0         0      0  ...     No   Yes    No      No     No   \n",
      "9     11590     0         0      0  ...     No    No    No      No     No   \n",
      "\n",
      "   adld3p   urin1   race      income  ptid  \n",
      "0     0.0     NaN  white  Under $11k     5  \n",
      "1     NaN  1437.0  white  Under $11k     7  \n",
      "2     NaN   599.0  white    $25-$50k     9  \n",
      "3     NaN     NaN  white    $11-$25k    10  \n",
      "4     NaN    64.0  white  Under $11k    11  \n",
      "5     0.0   242.0  white  Under $11k    12  \n",
      "6     NaN  4465.0  white    $25-$50k    13  \n",
      "7     NaN     NaN  white    $25-$50k    14  \n",
      "8     NaN  5525.0  white  Under $11k    16  \n",
      "9     NaN     NaN  white  Under $11k    17  \n",
      "\n",
      "[10 rows x 62 columns]\n"
     ]
    },
    {
     "name": "stderr",
     "output_type": "stream",
     "text": [
      "/anaconda/envs/python3/lib/python3.6/site-packages/ipykernel_launcher.py:5: SettingWithCopyWarning: \n",
      "A value is trying to be set on a copy of a slice from a DataFrame\n",
      "\n",
      "See the caveats in the documentation: http://pandas.pydata.org/pandas-docs/stable/indexing.html#indexing-view-versus-copy\n",
      "  \"\"\"\n",
      "/anaconda/envs/python3/lib/python3.6/site-packages/ipykernel_launcher.py:7: SettingWithCopyWarning: \n",
      "A value is trying to be set on a copy of a slice from a DataFrame\n",
      "\n",
      "See the caveats in the documentation: http://pandas.pydata.org/pandas-docs/stable/indexing.html#indexing-view-versus-copy\n",
      "  import sys\n"
     ]
    }
   ],
   "source": [
    "# iterates through the rows of the matrix to change No to 0 and Yes to 1 in swang1 and death columns\n",
    "for i in range(0, len(df1.head(10).index)):\n",
    "    # changes the value of the swang1 columns\n",
    "    if (df1['swang1'][i] == 'No RHC'):\n",
    "        df1['swang1'][i] = 0\n",
    "    elif (df1['swang1'][i] == 'RHC'):\n",
    "        df1['swang1'][i] = 1\n",
    "    # changes the value of the death columns\n",
    "    elif (df1['death'][i] == 'Yes'):\n",
    "        df1['death'][i] = 1\n",
    "    elif (df1['death'][i] == 'No'):\n",
    "        df1['death'][i] = 0\n",
    "        \n",
    "print(df1.head(10))\n",
    "        "
   ]
  },
  {
   "cell_type": "code",
   "execution_count": 36,
   "metadata": {},
   "outputs": [
    {
     "name": "stdout",
     "output_type": "stream",
     "text": [
      "0    0\n",
      "1    1\n",
      "2    1\n",
      "3    0\n",
      "4    1\n",
      "5    0\n",
      "6    0\n",
      "7    0\n",
      "8    0\n",
      "9    1\n",
      "Name: swang1, dtype: object\n"
     ]
    }
   ],
   "source": [
    "df2 = df1.head(10)\n",
    "x = df2['death']\n",
    "y = df2['swang1']\n",
    "print(y)\n",
    "\n",
    "#slope, intercept, r_value, p_value, std_err = stats.linregress(x, y)\n",
    "#fig, ax = plt.subplots(figsize=(12,8))  \n",
    "#df2.plot(x= 'death', y='swang1', kind = 'scatter')  \n",
    "#ax.scatter(df2[0], df2[1], label='black')  \n",
    "#plt.xticks(())\n",
    "#plt.yticks(())\n",
    "\n",
    "#plt.show()"
   ]
  },
  {
   "cell_type": "markdown",
   "metadata": {
    "ein.tags": "worksheet-0",
    "slideshow": {
     "slide_type": "-"
    }
   },
   "source": [
    "## 3 Address some of the issues\n",
    "\n",
    "Now let's try to address some of the issues with the estimator above.\n",
    "The dataset includes many other patient descriptors.\n"
   ]
  },
  {
   "cell_type": "markdown",
   "metadata": {
    "ein.tags": "worksheet-0",
    "slideshow": {
     "slide_type": "-"
    }
   },
   "source": [
    "### 3.1 Let's include 'age' and 'sex'.\n",
    "How are these coded?\n",
    "\n",
    "Age is coded in double and sex is coded in string."
   ]
  },
  {
   "cell_type": "markdown",
   "metadata": {
    "ein.tags": "worksheet-0",
    "slideshow": {
     "slide_type": "-"
    }
   },
   "source": [
    "What do you find?\n",
    "\n",
    "We see age is numeric and sex is 'Female'/'Male'."
   ]
  },
  {
   "cell_type": "code",
   "execution_count": 19,
   "metadata": {},
   "outputs": [
    {
     "name": "stdout",
     "output_type": "stream",
     "text": [
      "Age Variable\n",
      "0       70.250977\n",
      "1       78.178955\n",
      "2       46.091980\n",
      "3       75.331970\n",
      "4       67.909973\n",
      "5       86.077942\n",
      "6       54.967987\n",
      "7       43.638977\n",
      "8       18.041992\n",
      "9       48.423981\n",
      "10      34.441986\n",
      "11      68.347961\n",
      "12      74.709961\n",
      "13      42.236999\n",
      "14      81.970947\n",
      "15      78.304993\n",
      "16      88.421997\n",
      "17      69.001953\n",
      "18      41.428986\n",
      "19      67.503967\n",
      "20      50.589996\n",
      "21      62.688995\n",
      "22      42.052978\n",
      "23      23.112991\n",
      "24      62.107971\n",
      "25      39.829987\n",
      "26      47.755981\n",
      "27      36.700989\n",
      "28      71.200989\n",
      "29      95.536987\n",
      "          ...    \n",
      "5705    38.942993\n",
      "5706    68.949951\n",
      "5707    59.966980\n",
      "5708    77.368957\n",
      "5709    68.750000\n",
      "5710    71.123962\n",
      "5711    75.635986\n",
      "5712    23.079987\n",
      "5713    68.407959\n",
      "5714    88.779968\n",
      "5715    61.434998\n",
      "5716    72.506958\n",
      "5717    62.638977\n",
      "5718    46.890991\n",
      "5719    42.904999\n",
      "5720    72.292969\n",
      "5721    74.896973\n",
      "5722    69.926941\n",
      "5723    63.772980\n",
      "5724    63.011993\n",
      "5725    79.216980\n",
      "5726    72.035950\n",
      "5727    61.346985\n",
      "5728    62.132996\n",
      "5729    69.590942\n",
      "5730    75.561951\n",
      "5731    44.656982\n",
      "5732    80.484985\n",
      "5733    67.378967\n",
      "5734    54.663971\n",
      "Name: age, Length: 5735, dtype: float64\n",
      "Sex Variable\n",
      "0         Male\n",
      "1       Female\n",
      "2       Female\n",
      "3       Female\n",
      "4         Male\n",
      "5       Female\n",
      "6         Male\n",
      "7         Male\n",
      "8       Female\n",
      "9       Female\n",
      "10        Male\n",
      "11        Male\n",
      "12        Male\n",
      "13      Female\n",
      "14        Male\n",
      "15        Male\n",
      "16        Male\n",
      "17      Female\n",
      "18        Male\n",
      "19        Male\n",
      "20        Male\n",
      "21      Female\n",
      "22        Male\n",
      "23        Male\n",
      "24        Male\n",
      "25      Female\n",
      "26        Male\n",
      "27      Female\n",
      "28        Male\n",
      "29        Male\n",
      "         ...  \n",
      "5705    Female\n",
      "5706      Male\n",
      "5707      Male\n",
      "5708      Male\n",
      "5709    Female\n",
      "5710    Female\n",
      "5711    Female\n",
      "5712      Male\n",
      "5713    Female\n",
      "5714      Male\n",
      "5715    Female\n",
      "5716      Male\n",
      "5717      Male\n",
      "5718    Female\n",
      "5719      Male\n",
      "5720    Female\n",
      "5721      Male\n",
      "5722    Female\n",
      "5723      Male\n",
      "5724    Female\n",
      "5725    Female\n",
      "5726    Female\n",
      "5727      Male\n",
      "5728      Male\n",
      "5729      Male\n",
      "5730      Male\n",
      "5731    Female\n",
      "5732      Male\n",
      "5733      Male\n",
      "5734    Female\n",
      "Name: sex, Length: 5735, dtype: object\n",
      "Age is coded in double\n",
      "Sex is coded in string\n",
      "\n"
     ]
    }
   ],
   "source": [
    "print(\"Age Variable\")\n",
    "print(df1['age'])\n",
    "print(\"Sex Variable\")\n",
    "print(df1['sex'])\n",
    "print(\"Age is coded in double\")\n",
    "print(\"Sex is coded in string\")\n",
    "print(\"\")\n",
    "\n",
    "\n"
   ]
  },
  {
   "cell_type": "markdown",
   "metadata": {
    "ein.tags": "worksheet-0",
    "slideshow": {
     "slide_type": "-"
    }
   },
   "source": [
    "### 3.2 Include age and sex in the regression\n",
    "\n",
    "Now allow the death to depend on gender and age, on top of that it may\n",
    "depend on rhc.  Note that it may not just depend on age in a linear\n",
    "fashion but in a much more complex way, so include not just $age$ but\n",
    "also $age^2$ and $age^3$ as explanatory variables."
   ]
  },
  {
   "cell_type": "markdown",
   "metadata": {
    "ein.tags": "worksheet-0",
    "slideshow": {
     "slide_type": "-"
    }
   },
   "source": [
    "Comment your results\n",
    "\n",
    "Seems like the association between treatment and rhc is not much\n",
    "affect, if anything, it got larger."
   ]
  },
  {
   "cell_type": "markdown",
   "metadata": {
    "ein.tags": "worksheet-0",
    "slideshow": {
     "slide_type": "-"
    }
   },
   "source": [
    "## 4 Design matrices of the models\n",
    "\n",
    "Each linear model (and many other models) have associated _design\n",
    "matrices_.  Design matrix is the matrix of all your explanatory\n",
    "variables (all x-s) in the final numeric matrix form.  This includes\n",
    "* adding a constant column\n",
    "* converting categorical/non-numeric variables into suitable numeric\n",
    "variables\n",
    "\n",
    "You next task is to create/extract the design matrices of both of the\n",
    "models above, investigate their numeric properties (condition\n",
    "numbers), and solve the linear regression problem in matrix form.\n",
    "\n",
    "We did not have time in the class to talk about it, but there is a\n",
    "closed-form solution for the linear regression problem:  beta =\n",
    "$(X'X)^{-1} X'y$.  Compute this solution and compare with the regression\n",
    "package output above.\n",
    "\n",
    "\n",
    "### 4.1 First model\n",
    "\n",
    "#### 4.1.1 create the design matrix of it, X.\n",
    "\n",
    "Depending on the way you solved your problem, you may already have\n",
    "created it.  Depending on the way you solved the problem above, you\n",
    "may be able to extract it from the existing model.  You may also redo it\n",
    "manually here.  Remember:\n",
    "* include the constant term!\n",
    "* design matrix must be a _matrix_, not data frame or something else."
   ]
  },
  {
   "cell_type": "markdown",
   "metadata": {
    "ein.tags": "worksheet-0",
    "slideshow": {
     "slide_type": "-"
    }
   },
   "source": [
    "#### 4.1.2 Compute the condition number of X`X.\n",
    "\n",
    "You may choose whatever definition you like, but please report what\n",
    "are you using."
   ]
  },
  {
   "cell_type": "markdown",
   "metadata": {
    "ein.tags": "worksheet-0",
    "slideshow": {
     "slide_type": "-"
    }
   },
   "source": [
    "#### 4.1.3 Compute your regression coefficients using the formula above.\n",
    "\n",
    "Note: you also need your outcome variable $y$ in numeric matrix\n",
    "form. "
   ]
  },
  {
   "cell_type": "markdown",
   "metadata": {
    "ein.tags": "worksheet-0",
    "slideshow": {
     "slide_type": "-"
    }
   },
   "source": [
    "#### 4.1.4 Compare your coefficients here with the OLS results above."
   ]
  },
  {
   "cell_type": "markdown",
   "metadata": {
    "ein.tags": "worksheet-0",
    "slideshow": {
     "slide_type": "-"
    }
   },
   "source": [
    "### 4.2 Second Model\n",
    "\n",
    "Repeat the previous steps 1..4 for the second model, involving $age$,\n",
    "$age^2$, and $age^3$."
   ]
  },
  {
   "cell_type": "markdown",
   "metadata": {
    "ein.tags": "worksheet-0",
    "slideshow": {
     "slide_type": "-"
    }
   },
   "source": [
    "Compare the results with the regression output.  Comment the condition\n",
    "numbers you got.\n",
    "\n",
    "The coefficients are the same.  One can see that the condition number\n",
    "is enormous, so there may be numeric problems.\n"
   ]
  }
 ],
 "metadata": {
  "kernelspec": {
   "display_name": "Python 3",
   "language": "python",
   "name": "python3"
  },
  "language_info": {
   "codemirror_mode": {
    "name": "ipython",
    "version": 3
   },
   "file_extension": ".py",
   "mimetype": "text/x-python",
   "name": "python",
   "nbconvert_exporter": "python",
   "pygments_lexer": "ipython3",
   "version": "3.6.1"
  },
  "name": "lab04_ols_causality_complete.ipynb"
 },
 "nbformat": 4,
 "nbformat_minor": 2
}
